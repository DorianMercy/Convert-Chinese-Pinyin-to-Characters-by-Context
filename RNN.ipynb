{
 "cells": [
  {
   "cell_type": "code",
   "execution_count": 36,
   "metadata": {
    "collapsed": true
   },
   "outputs": [],
   "source": [
    "import json\n",
    "import jieba\n",
    "import numpy as np\n",
    "from pypinyin import lazy_pinyin\n",
    "from keras.preprocessing.text import Tokenizer\n",
    "from tensorflow.keras.preprocessing.sequence import pad_sequences\n",
    "from keras.models import Sequential\n",
    "from keras.layers import Dense, LSTM, Embedding, RepeatVector\n",
    "from keras import optimizers\n",
    "import numpy as np"
   ]
  },
  {
   "cell_type": "markdown",
   "source": [
    "# Read File"
   ],
   "metadata": {
    "collapsed": false,
    "pycharm": {
     "name": "#%% md\n"
    }
   }
  },
  {
   "cell_type": "code",
   "execution_count": 37,
   "outputs": [],
   "source": [
    "def read_json(file):\n",
    "    f = open(file,'r')\n",
    "    data = []\n",
    "    for i in f:\n",
    "        data.append(json.loads(i))\n",
    "    f.close()\n",
    "    return data"
   ],
   "metadata": {
    "collapsed": false,
    "pycharm": {
     "name": "#%%\n"
    }
   }
  },
  {
   "cell_type": "code",
   "execution_count": 38,
   "outputs": [],
   "source": [
    "def parse_data(file):\n",
    "    data = read_json(file)\n",
    "    topics = []\n",
    "    sentences = []\n",
    "    for i in data:\n",
    "        topics.append(i['label'])\n",
    "        sentences.append(i['sentence'])\n",
    "    return topics, sentences"
   ],
   "metadata": {
    "collapsed": false,
    "pycharm": {
     "name": "#%%\n"
    }
   }
  },
  {
   "cell_type": "code",
   "execution_count": 39,
   "outputs": [
    {
     "data": {
      "text/plain": "{'100': 'news_story',\n '101': 'news_culture',\n '102': 'news_entertainment',\n '103': 'news_sports',\n '104': 'news_finance',\n '106': 'news_house',\n '107': 'news_car',\n '108': 'news_edu',\n '109': 'news_tech',\n '110': 'news_military',\n '112': 'news_travel',\n '113': 'news_world',\n '114': 'news_stock',\n '115': 'news_agriculture',\n '116': 'news_game'}"
     },
     "execution_count": 39,
     "metadata": {},
     "output_type": "execute_result"
    }
   ],
   "source": [
    "# show topics\n",
    "data = read_json('labels.json')\n",
    "dic_topic = {}\n",
    "for i in data:\n",
    "    dic_topic[i['label']] = i['label_desc']\n",
    "dic_topic"
   ],
   "metadata": {
    "collapsed": false,
    "pycharm": {
     "name": "#%%\n"
    }
   }
  },
  {
   "cell_type": "code",
   "execution_count": 40,
   "outputs": [],
   "source": [
    "train_topics, train_sentences = parse_data('train.json')\n",
    "test_topics, test_sentences = parse_data('dev.json')"
   ],
   "metadata": {
    "collapsed": false,
    "pycharm": {
     "name": "#%%\n"
    }
   }
  },
  {
   "cell_type": "markdown",
   "source": [
    "# Create Dictionary and Tokenizer of Words That Ever Appear in Either Dataset"
   ],
   "metadata": {
    "collapsed": false
   }
  },
  {
   "cell_type": "code",
   "execution_count": 41,
   "outputs": [],
   "source": [
    "def create_dic(text):\n",
    "    dic = {}\n",
    "    string = ' '.join(jieba.cut(text, HMM=False))\n",
    "    list_of_terms = string.split()\n",
    "    for term in list_of_terms:\n",
    "        if term not in dic and term.isalpha():\n",
    "            ls = lazy_pinyin(term)\n",
    "            dic[term] = ''.join(ls)\n",
    "    return dic"
   ],
   "metadata": {
    "collapsed": false,
    "pycharm": {
     "name": "#%%\n"
    }
   }
  },
  {
   "cell_type": "code",
   "execution_count": 42,
   "outputs": [
    {
     "data": {
      "text/plain": "{'上课时': 'shangkeshi',\n '学生': 'xuesheng',\n '手机': 'shouji',\n '响': 'xiang',\n '个': 'ge',\n '不停': 'buting',\n '老师': 'laoshi',\n '一怒之下': 'yinuzhixia',\n '把': 'ba',\n '摔': 'shuai',\n '了': 'le',\n '家长': 'jiazhang',\n '拿': 'na',\n '发票': 'fapiao',\n '让': 'rang',\n '赔': 'pei',\n '大家': 'dajia',\n '怎么': 'zenme',\n '看待': 'kandai',\n '这种': 'zhezhong',\n '事': 'shi',\n '商': 'shang',\n '赢': 'ying',\n '环球': 'huanqiu',\n '股份': 'gufen',\n '有限公司': 'youxiangongsi',\n '关于': 'guanyu',\n '延期': 'yanqi',\n '回复': 'huifu',\n '上海证券交易所': 'shanghaizhengquanjiaoyisuo',\n '对': 'dui',\n '公司': 'gongsi',\n '年': 'nian',\n '年度报告': 'niandubaogao',\n '的': 'de',\n '事后': 'shihou',\n '审核': 'shenhe',\n '问询': 'wenxun',\n '函': 'han',\n '公告': 'gonggao',\n '通过': 'tongguo',\n '中介': 'zhongjie',\n '买': 'mai',\n '二手房': 'ershoufang',\n '首付': 'shoufu',\n '都': 'dou',\n '付': 'fu',\n '现在': 'xianzai',\n '卖家': 'maijia',\n '不想': 'buxiang',\n '卖': 'mai',\n '处理': 'chuli',\n '去': 'qu',\n '俄罗斯': 'eluosi',\n '看': 'kan',\n '世界杯': 'shijiebei',\n '得': 'de',\n '花': 'hua',\n '多少': 'duoshao',\n '钱': 'qian',\n '剃须刀': 'tixudao',\n '个性': 'gexing',\n '革新': 'gexin',\n '雷明登': 'leimingdeng',\n '天': 'tian',\n '猫': 'mao',\n '定制': 'dingzhi',\n '版': 'ban',\n '新品': 'xinpin',\n '首发': 'shoufa',\n '再次': 'zaici',\n '证明': 'zhengming',\n '无敌': 'wudi',\n '是': 'shi',\n '多么': 'duome',\n '寂寞': 'jimo',\n '逆': 'ni',\n '中国乒乓球队': 'zhongguopingpangqiudui',\n '三农': 'sannong',\n '盾': 'dun',\n 'SACC': 'SACC',\n '全球': 'quanqiu',\n '首个': 'shouge',\n '推出': 'tuichu',\n '互联网': 'hulianwang',\n '区块': 'qukuai',\n '链': 'lian',\n '农产品': 'nongchanpin',\n '电商': 'dianshang',\n '平台': 'pingtai',\n '重': 'zhong',\n '做': 'zuo',\n 'or': 'or',\n '新': 'xin',\n '英雄': 'yingxiong',\n '其实': 'qishi',\n '暴雪': 'baoxue',\n '来说': 'laishuo',\n '同样': 'tongyang',\n '重要': 'zhongyao',\n '如何': 'ruhe',\n '在': 'zai',\n '商业活动': 'shangyehuodong',\n '中': 'zhong',\n '不': 'bu',\n '受': 'shou',\n '人': 'ren',\n '欺骗': 'qipian',\n '红楼梦': 'hongloumeng',\n '最': 'zui',\n '温柔': 'wenrou',\n '四个': 'sige',\n '丫鬟': 'yahuan',\n '娶': 'qu',\n '谁': 'shui',\n '一生': 'yisheng',\n '福气': 'fuqi',\n '凌云': 'lingyun',\n '研发': 'yanfa',\n '国产': 'guochan',\n '两轮': 'lianglun',\n '电动车': 'diandongche',\n '怎么样': 'zenmeyang',\n '有': 'you',\n '什么': 'shenme',\n '惊喜': 'jingxi',\n '房地产': 'fangdichan',\n '税': 'shui',\n '迟迟': 'chichi',\n '无法': 'wufa',\n '出台': 'chutai',\n '央行': 'yanghang',\n '研究': 'yanjiu',\n '局局长': 'jujuzhang',\n '徐': 'xu',\n '忠': 'zhong',\n '这样': 'zheyang',\n '说': 'shuo',\n '我': 'wo',\n '四千': 'siqian',\n '一个月': 'yigeyue',\n '老婆': 'laopo',\n '一千五': 'yiqianwu',\n '存款': 'cunkuan',\n '八万': 'bawan',\n '且': 'qie',\n '两': 'liang',\n '小孩': 'xiaohai',\n '先': 'xian',\n '买房': 'maifang',\n '还是': 'haishi',\n '先买': 'xianmai',\n '车': 'che',\n '产地': 'chandi',\n '办': 'ban',\n '展': 'zhan',\n '模式': 'moshi',\n '为': 'wei',\n '东莞': 'dongguan',\n '制造': 'zhizao',\n '送': 'song',\n '创新': 'chuangxin',\n '情报': 'qingbao',\n '全国': 'quanguo',\n '央': 'yang',\n '地': 'di',\n '融合': 'ronghe',\n '沪': 'hu',\n '落地': 'luodi',\n '故事': 'gushi',\n '刘': 'liu',\n '主任': 'zhuren',\n '建': 'jian',\n '猪场': 'zhuchang',\n '人情': 'renqing',\n '世故': 'shigu',\n '关注': 'guanzhu',\n '网络': 'wangluo',\n '自': 'zi',\n '媒体': 'meiti',\n '不是': 'bushi',\n '法': 'fa',\n '外': 'wai',\n '之': 'zhi',\n '以': 'yi',\n '谣': 'yao',\n '博': 'bo',\n '名': 'ming',\n '博利': 'boli',\n '将': 'jiang',\n '被': 'bei',\n '追': 'zhui',\n '责': 'ze',\n '古代': 'gudai',\n '先进': 'xianjin',\n '文明': 'wenming',\n '证据': 'zhengju',\n '这': 'zhe',\n '历史': 'lishi',\n '上': 'shang',\n '著名': 'zhuming',\n '剑': 'jian',\n '加快': 'jiakuai',\n '产': 'chan',\n '城': 'cheng',\n '科技': 'keji',\n '引领': 'yinling',\n '新城区': 'xinchengqu',\n '建设': 'jianshe',\n '取名': 'quming',\n '困难': 'kunnan',\n '症': 'zheng',\n '患者': 'huanzhe',\n '皇马': 'huangma',\n '贝尔': 'beier',\n '第一个': 'diyige',\n '受害者': 'shouhaizhe',\n '就是': 'jiushi',\n '他': 'ta',\n '儿子': 'erzi',\n '夫妻间': 'fuqijian',\n '能': 'neng',\n '不能': 'buneng',\n '互': 'hu',\n '探秘': 'tanmi',\n '日本': 'riben',\n '关东': 'guandong',\n '特大': 'teda',\n '地震': 'dizhen',\n '上联': 'shanglian',\n '千峰': 'qianfeng',\n '入眠': 'rumian',\n '松涛': 'songtao',\n '静': 'jing',\n '接': 'jie',\n '下联': 'xialian',\n '阻止': 'zuzhi',\n '基拉': 'jila',\n '韦': 'wei',\n '厄': 'e',\n '活火山': 'huohuoshan',\n '熔岩': 'rongyan',\n '单硝酸': 'danxiaosuan',\n '异': 'yi',\n '山梨': 'shanli',\n '酯': 'zhi',\n '片': 'pian',\n '与': 'yu',\n '硝酸': 'xiaosuan',\n '何': 'he',\n '区别': 'qubie',\n '廖': 'liao',\n '英': 'ying',\n '强': 'qiang',\n '证监会': 'zhengjianhui',\n '处罚': 'chufa',\n '亿': 'yi',\n '你': 'ni',\n '女儿': 'nver',\n '高烧': 'gaoshao',\n '不止': 'buzhi',\n '婆婆': 'popo',\n '给': 'gei',\n '老公': 'laogong',\n '打电话': 'dadianhua',\n '回家': 'huijia',\n '通话': 'tonghua',\n '内容': 'neirong',\n '吓瘫': 'xiatan',\n '地上': 'dishang',\n '联': 'lian',\n '春风': 'chunfeng',\n '执笔': 'zhibi',\n '研': 'yan',\n '墨': 'mo',\n '肥乡': 'feixiang',\n '区': 'qu',\n '新风': 'xinfeng',\n '吹进': 'chuijin',\n '千家万户': 'qianjiawanhu',\n '葫芦': 'hulu',\n '做成': 'zuocheng',\n '乐器': 'yueqi',\n '为什么': 'weishenme',\n '袁大头': 'yuandatou',\n '等': 'deng',\n '银元': 'yinyuan',\n '吹': 'chui',\n '完': 'wan',\n '会': 'hui',\n '响声': 'xiangsheng',\n '伊朗': 'yilang',\n '宁愿': 'ningyuan',\n '接受': 'jieshou',\n '制裁': 'zhicai',\n '也': 'ye',\n '同意': 'tongyi',\n '修改': 'xiugai',\n '伊': 'yi',\n '核': 'he',\n '协议': 'xieyi',\n '小': 'xiao',\n '白': 'bai',\n '做好': 'zuohao',\n '几个': 'jige',\n '信念': 'xinnian',\n '街头': 'jietou',\n '偶遇': 'ouyu',\n '款': 'kuan',\n '长安': 'changan',\n '颜': 'yan',\n '值': 'zhi',\n '美': 'mei',\n '炸': 'zha',\n '或': 'huo',\n '售': 'shou',\n '万': 'wan',\n '起': 'qi',\n '还': 'hai',\n '宝': 'bao',\n '骏': 'jun',\n '党': 'dang',\n '笔记本电脑': 'bijibendiannao',\n '好': 'hao',\n '大猩猩': 'daxingxing',\n '镜头': 'jingtou',\n '摆': 'bai',\n '造型': 'zaoxing',\n '表情丰富': 'biaoqingfengfu',\n '走红': 'zouhong',\n '收获': 'shouhuo',\n '众多': 'zhongduo',\n '迷': 'mi',\n '妹': 'mei',\n '日': 'ri',\n '游戏': 'youxi',\n '热点': 'redian',\n '回顾': 'huigu',\n '刺激': 'ciji',\n '战场': 'zhanchang',\n '取消': 'quxiao',\n '恶意': 'eyi',\n '伤害': 'shanghai',\n '队友': 'duiyou',\n '后': 'hou',\n '小学生': 'xiaoxuesheng',\n '开始': 'kaishi',\n '用': 'yong',\n '方式': 'fangshi',\n '杀': 'sha',\n '贵州': 'guizhou',\n '多彩': 'duocai',\n '绚丽': 'xuanli',\n '民族': 'minzu',\n '风': 'feng',\n '凯': 'kai',\n '莉': 'li',\n '包': 'bao',\n '文艺': 'wenyi',\n '女': 'nv',\n '青年': 'qingnian',\n '必备': 'bibei',\n '泰国': 'taiguo',\n '中级会计': 'zhongjikuaiji',\n '考试': 'kaoshi',\n '每日': 'meiri',\n '一': 'yi',\n '练': 'lian',\n '抱': 'bao',\n '娃': 'wa',\n '姿势': 'zishi',\n '正确': 'zhengque',\n '小心': 'xiaoxin',\n '患': 'huan',\n '熊': 'xiong',\n '黛': 'dai',\n '林': 'lin',\n '同': 'tong',\n '妈妈': 'mama',\n '手': 'shou',\n '崩溃': 'bengkui',\n '火车站': 'huochezhan',\n '管理员': 'guanliyuan',\n '睡': 'shui',\n '过头': 'guotou',\n '上百人': 'shangbairen',\n '眼睁睁': 'yanzhengzheng',\n '空车': 'kongche',\n '驶出': 'shichu',\n '一辆车': 'yiliangche',\n '寿命': 'shouming',\n '到底': 'daodi',\n '多长': 'duozhang',\n '多': 'duo',\n '可以': 'keyi',\n '开': 'kai',\n '多久': 'duojiu',\n '听说': 'tingshuo',\n '最近': 'zuijin',\n '联通': 'liantong',\n '搅乱': 'jiaoluan',\n '北京': 'beijing',\n '宽带': 'kuandai',\n '市场': 'shichang',\n '价格': 'jiage',\n '比': 'bi',\n '运营商': 'yunyingshang',\n '低': 'di',\n '焕': 'huan',\n '驰': 'chi',\n '前': 'qian',\n '减震': 'jianzhen',\n '过': 'guo',\n '凹凸不平': 'aotubuping',\n '时候': 'shihou',\n '咣当': 'guangdang',\n '一声': 'yisheng',\n '原因': 'yuanyin',\n '人民日报': 'renminribao',\n '发文': 'fawen',\n '痛': 'tong',\n '批': 'pi',\n '沉睡': 'chenshui',\n '大学生': 'daxuesheng',\n '失业': 'shiye',\n '天理难容': 'tianlinanrong',\n '这件': 'zhejian',\n '南京': 'nanjing',\n '晓': 'xiao',\n '庄': 'zhuang',\n '五年': 'wunian',\n '一贯制': 'yiguanzhi',\n '专': 'zhuan',\n '转': 'zhuan',\n '本': 'ben',\n '培训': 'peixun',\n '简章': 'jianzhang',\n '博大': 'boda',\n '五年制': 'wunianzhi',\n '辅导': 'fudao',\n '中国': 'zhongguo',\n '传媒大学': 'chuanmeidaxue',\n '平昌': 'pingchang',\n '冬奥会': 'dongaohui',\n '闭幕式': 'bimushi',\n '八分钟': 'bafenzhong',\n '主创': 'zhuchuang',\n '交流会': 'jiaoliuhui',\n '举行': 'juxing',\n '哪': 'na',\n '种': 'zhong',\n 'POS': 'POS',\n '机': 'ji',\n '适合': 'shihe',\n '养': 'yang',\n '卡': 'ka',\n '复仇者': 'fuchouzhe',\n '联盟': 'lianmeng',\n '奇异': 'qiyi',\n '博士': 'boshi',\n '不用': 'buyong',\n '时间': 'shijian',\n '宝石': 'baoshi',\n '跟': 'gen',\n '灭': 'mie',\n '霸': 'ba',\n '谈判': 'tanpan',\n '张': 'zhang',\n '鹤': 'he',\n '伦': 'lun',\n '粉丝': 'fensi',\n '水枪': 'shuiqiang',\n '对射': 'duishe',\n '这个': 'zhege',\n '话筒': 'huatong',\n '千': 'qian',\n '多亿': 'duoyi',\n '赔钱': 'peiqian',\n '驾驶证': 'jiashizheng',\n '预约': 'yuyue',\n '按': 'an',\n '规则': 'guize',\n '进行': 'jinxing',\n '排序': 'paixu',\n '创业': 'chuangye',\n '准备': 'zhunbei',\n '商机': 'shangji',\n '叫': 'jiao',\n '帝都': 'didu',\n '上海': 'shanghai',\n '魔': 'mo',\n '那': 'na',\n '深圳': 'shenzhen',\n '阿里巴巴': 'alibaba',\n '专利': 'zhuanli',\n '排名': 'paiming',\n '第一': 'diyi',\n '阿里': 'ali',\n '哪些': 'neixie',\n '应用': 'yingyong',\n '揭秘': 'jiemi',\n '您': 'nin',\n '身边': 'shenbian',\n '十大类': 'shidalei',\n '轻松': 'qingsong',\n '赚钱': 'zhuanqian',\n '被动': 'beidong',\n '收入': 'shouru',\n '生意': 'shengyi',\n '机会': 'jihui',\n '以色列': 'yiselie',\n '总理': 'zongli',\n '出席': 'chuxi',\n '阅兵式': 'yuebingshi',\n '月': 'yue',\n '会晤': 'huiwu',\n '普京': 'pujing',\n '省': 'sheng',\n '双': 'shuang',\n '创': 'chuang',\n '计划': 'jihua',\n '项目': 'xiangmu',\n '申报': 'shenbao',\n '工作': 'gongzuo',\n '启动': 'qidong',\n '军用': 'junyong',\n '匕首': 'bishou',\n '关键时刻': 'guanjianshike',\n '发挥': 'fahui',\n '作用': 'zuoyong',\n '拥抱': 'yongbao',\n '编辑': 'bianji',\n '时代': 'shidai',\n '升级': 'shengji',\n '产品': 'chanpin',\n '海内外': 'haineiwai',\n '规划': 'guihua',\n '下': 'xia',\n '十年': 'shinian',\n '银行': 'yinhang',\n '恼羞成怒': 'naoxiuchengnu',\n '微': 'wei',\n '信': 'xin',\n '支付宝': 'zhifubao',\n '借款': 'jiekuan',\n '两次': 'liangci',\n '贷款': 'daikuan',\n '教育': 'jiaoyu',\n '技术': 'jishu',\n '主题': 'zhuti',\n 'AR': 'AR',\n '航母': 'hangmu',\n '受到': 'shoudao',\n '攻击': 'gongji',\n '才': 'cai',\n '击沉': 'jichen',\n '东风': 'dongfeng',\n '家族': 'jiazu',\n '刮目相看': 'guamuxiangkan',\n '慕容': 'murong',\n '云海': 'yunhai',\n '刁难': 'diaonan',\n '楚': 'chu',\n '雨': 'yu',\n '荨': 'xun',\n '矿泉水': 'kuangquanshui',\n '一下子': 'yixiazi',\n '块钱': 'kuaiqian',\n '直接': 'zhijie',\n '累死': 'leisi',\n '非洲': 'feizhou',\n '兄弟': 'xiongdi',\n 'AK': 'AK',\n '技巧': 'jiqiao',\n '不靠': 'bukao',\n '全': 'quan',\n '靠': 'kao',\n '信仰': 'xinyang',\n 'SWITCH': 'SWITCH',\n '销量': 'xiaoliang',\n '高': 'gao',\n '而且': 'erqie',\n '画面': 'huamian',\n '还有': 'haiyou',\n '世界': 'shijie',\n '问答题': 'wendati',\n '头颅': 'toulu',\n '呢': 'ne',\n '答对': 'dadui',\n '大神': 'dashen',\n '珍珠': 'zhenzhu',\n '是从': 'shicong',\n '时期': 'shiqi',\n '作为': 'zuowei',\n '首饰': 'shoushi',\n '使用': 'shiyong',\n '少女': 'shaonv',\n '怪病': 'guaibing',\n '激动': 'jidong',\n '就': 'jiu',\n '血流': 'xueliu',\n '只能靠': 'zhinengkao',\n '药物': 'yaowu',\n '止血': 'zhixue',\n '地球': 'diqiu',\n '美国': 'meiguo',\n '夏威夷': 'xiaweiyi',\n '群岛': 'qundao',\n '突发': 'tufa',\n '级': 'ji',\n '游客': 'youke',\n '紧急': 'jinji',\n '疏散': 'shusan',\n '海航': 'haihang',\n '资本': 'ziben',\n '助力': 'zhuli',\n '海南': 'hainan',\n '自贸区': 'zimaoqu',\n '为何': 'weihe',\n '联合国': 'lianheguo',\n '维和部队': 'weihebudui',\n '打击': 'daji',\n 'ISIS': 'ISIS',\n '王者': 'wangzhe',\n '荣耀': 'rongyao',\n '李白': 'libai',\n '和': 'he',\n '韩信': 'hanxin',\n '没': 'mei',\n '加强': 'jiaqiang',\n '人民币': 'renminbi',\n '战士': 'zhanshi',\n '却': 'que',\n '悲哀': 'beiai',\n '军事': 'junshi',\n '才能': 'caineng',\n '平庸': 'pingyong',\n '华盛顿': 'huashengdun',\n '打赢': 'daying',\n '独立战争': 'dulizhanzheng',\n '济南': 'jinan',\n '堵车': 'duche',\n '是因为': 'shiyinwei',\n '道路': 'daolu',\n '不好': 'buhao',\n '吗': 'ma',\n '人工智能': 'rengongzhineng',\n '方面': 'fangmian',\n '研究生': 'yanjiusheng',\n '专业': 'zhuanye',\n '南沙': 'nansha',\n '公寓': 'gongyu',\n '是否': 'shifou',\n '值得': 'zhide',\n '投资': 'touzi',\n '泡沫': 'paomo',\n '夏': 'xia',\n '点': 'dian',\n '独': 'du',\n '播': 'bo',\n '秦': 'qin',\n '俊杰': 'junjie',\n '霸气': 'baqi',\n '狂': 'kuang',\n '撩': 'liao',\n '雪': 'xue',\n '迎': 'ying',\n '西方': 'xifang',\n '死神': 'sishen',\n '入侵': 'ruqin',\n '天朝': 'tianchao',\n '结果': 'jieguo',\n '阎王': 'yanwang',\n '偷走': 'touzou',\n '衣服': 'yifu',\n '尴尬': 'ganga',\n '定安': 'dingan',\n '三年': 'sannian',\n '修复': 'xiufu',\n '全县': 'quanxian',\n '处': 'chu',\n '不可': 'buke',\n '移动': 'yidong',\n '文物': 'wenwu',\n '房价': 'fangjia',\n '降': 'jiang',\n '唯独': 'weidu',\n '哈尔滨': 'haerbin',\n '猛涨': 'mengzhang',\n '最强': 'zuiqiang',\n 'NBA': 'NBA',\n '最好': 'zuihao',\n '米': 'mi',\n '清雅': 'qingya',\n '型': 'xing',\n '别墅': 'bieshu',\n '大容量': 'darongliang',\n '简约': 'jianyue',\n '民宿': 'minsu',\n '来自': 'laizi',\n '墅': 'shu',\n '建房': 'jianfang',\n '诱惑': 'youhuo',\n '慧': 'hui',\n '闺': 'gui',\n '蜜': 'mi',\n '现身': 'xianshen',\n '说话': 'shuohua',\n '爆料': 'baoliao',\n '截图': 'jietu',\n '石': 'shi',\n '锤': 'chui',\n '造假': 'zaojia',\n '消失': 'xiaoshi',\n '笑笑': 'xiaoxiao',\n '最后': 'zuihou',\n '回应': 'huiying',\n '多年': 'duonian',\n '居然': 'juran',\n '去过': 'quguo',\n '地方': 'difang',\n '美景': 'meijing',\n '堪称': 'kancheng',\n '圣地': 'shengdi',\n '大': 'da',\n '特种部队': 'tezhongbudui',\n '手势语': 'shoushiyu',\n '图解': 'tujie',\n '可': 'ke',\n '知道': 'zhidao',\n '郑板桥': 'zhengbanqiao',\n '一幅': 'yifu',\n '对联': 'duilian',\n '学校': 'xuexiao',\n '有没有': 'youmeiyou',\n '权利': 'quanli',\n '没收': 'moshou',\n '四大': 'sida',\n '僵尸': 'jiangshi',\n '始祖': 'shizu',\n '勾': 'gou',\n '卿': 'qing',\n '旱魃': 'hanba',\n '臣': 'chen',\n '来历': 'laili',\n '军工': 'jungong',\n '已': 'yi',\n '动真格': 'dongzhenge',\n '中航': 'zhonghang',\n '科工': 'kegong',\n '占据': 'zhanju',\n '着': 'zhe',\n '舞台': 'wutai',\n '正': 'zheng',\n '中央': 'zhongyang',\n '资格': 'zige',\n '成都': 'chengdu',\n '怎样才能': 'zenyangcaineng',\n '到': 'dao',\n '房': 'fang',\n '旗': 'qi',\n '红球': 'hongqiu',\n '首届': 'shoujie',\n '蓉': 'rong',\n '欧': 'ou',\n '智能': 'zhineng',\n '科博会': 'kebohui',\n '本月底': 'benyuedi',\n '青白江': 'qingbaijiang',\n '广州': 'guangzhou',\n '恒': 'heng',\n '淘宝': 'taobao',\n '抵达': 'dida',\n '赛场': 'saichang',\n '卡纳瓦罗': 'kanawaluo',\n '英气': 'yingqi',\n '十足': 'shizu',\n '谢': 'xie',\n '娜': 'na',\n '亿多': 'yiduo',\n '真': 'zhen',\n '这么': 'zheme',\n '图': 'tu',\n '揭晓': 'jiexiao',\n '实际': 'shiji',\n '数量': 'shuliang',\n '家里': 'jiali',\n '两个': 'liangge',\n '老人': 'laoren',\n '一个': 'yige',\n '二两': 'erliang',\n '牛肉': 'niurou',\n '英国': 'yingguo',\n '年薪': 'nianxin',\n '英镑': 'yingbang',\n '水平': 'shuiping',\n '红警': 'hongjing',\n '狙击手': 'jujishou',\n '三级': 'sanji',\n '加': 'jia',\n '距离': 'juli',\n '刘銮雄': 'liuluanxiong',\n '赌王': 'duwang',\n '鸿': 'hong',\n '燊': 'shen',\n '他们': 'tamen',\n '现状': 'xianzhuang',\n '说明': 'shuoming',\n '豪门': 'haomen',\n '差别': 'chabie',\n '记得': 'jide',\n '缅甸': 'miandian',\n '豪华': 'haohua',\n '婚礼': 'hunli',\n '细节': 'xijie',\n '再度': 'zaidu',\n '遭': 'zao',\n '曝光': 'baoguang',\n '请': 'qing',\n '擦亮': 'caliang',\n '眼': 'yan',\n '行业': 'hangye',\n '板块': 'bankuai',\n '全面': 'quanmian',\n '上涨': 'shangzhang',\n '指': 'zhi',\n '收复': 'shoufu',\n '艺': 'yi',\n '兴': 'xing',\n '戴': 'dai',\n '口罩': 'kouzhao',\n '从来': 'conglai',\n '只': 'zhi',\n '遮': 'zhe',\n '嘴': 'zui',\n '鼻': 'bi',\n '原来': 'yuanlai',\n '有趣': 'youqu',\n '如果': 'ruguo',\n '国际': 'guoji',\n '空间站': 'kongjianzhan',\n '狙击步枪': 'jujibuqiang',\n '太阳': 'taiyang',\n '射': 'she',\n '一发': 'yifa',\n '子弹': 'zidan',\n '怎样': 'zenyang',\n '复': 'fu',\n '里': 'li',\n '这位': 'zhewei',\n '死': 'si',\n '剧': 'ju',\n '透': 'tou',\n '这些': 'zhexie',\n '复活': 'fuhuo',\n '德国人': 'deguoren',\n '清朝': 'qingchao',\n '当': 'dang',\n '大官': 'daguan',\n '备受': 'beishou',\n '宠信': 'chongxin',\n '分期': 'fenqi',\n '买车': 'maiche',\n '划算': 'huasuan',\n '全款': 'quankuan',\n '精密': 'jingmi',\n '领域': 'lingyu',\n '那么': 'name',\n '发达': 'fada',\n '从': 'cong',\n '结束': 'jieshu',\n '杨': 'yang',\n '毅': 'yi',\n '神': 'shen',\n '预测': 'yuce',\n '火箭': 'huojian',\n '勇士': 'yongshi',\n '西': 'xi',\n '决': 'jue',\n '大战': 'dazhan',\n '一触即发': 'yichujifa',\n '岁': 'sui',\n '高中生': 'gaozhongsheng',\n '已经': 'yijing',\n '学': 'xue',\n 'AI': 'AI',\n '统治': 'tongzhi',\n '强大': 'qiangda',\n '基建投资': 'jijiantouzi',\n '特色': 'tese',\n '小镇': 'xiaozhen',\n '田园': 'tianyuan',\n '综合体': 'zongheti',\n '带来': 'dailai',\n '机遇': 'jiyu',\n '网吧': 'wangba',\n '电脑配置': 'diannaopeizhi',\n '速度': 'sudu',\n '很快': 'henkuai',\n 'NASA': 'NASA',\n 'Uber': 'Uber',\n '探索': 'tansuo',\n '未来': 'weilai',\n '城市': 'chengshi',\n '空域': 'kongyu',\n '安全性': 'anquanxing',\n '效率': 'xiaolv',\n '飞车': 'feiche',\n '比较': 'bijiao',\n '舒服': 'shufu',\n '飞地': 'feidi',\n '知识': 'zhishi',\n '国内': 'guonei',\n '首台': 'shoutai',\n '案例': 'anli',\n '宝马': 'baoma',\n '系': 'xi',\n 'GT': 'GT',\n '怒': 'nu',\n '改': 'gai',\n '大灯': 'dadeng',\n '实现': 'shixian',\n '四': 'si',\n '远': 'yuan',\n '近': 'jin',\n '灯光': 'dengguang',\n '吴敏霞': 'wuminxia',\n '发': 'fa',\n '庆生': 'qingsheng',\n '晒': 'shai',\n '出': 'chu',\n '亲密': 'qinmi',\n '照': 'zhao',\n '十分': 'shifen',\n '恩爱': 'enai',\n '走进': 'zoujin',\n '部队': 'budui',\n '饭堂': 'fantang',\n '一下': 'yixia',\n '伙食': 'huoshi',\n '不同': 'butong',\n '资讯': 'zixun',\n '快': 'kuai',\n '爆': 'bao',\n '星期六': 'xingqiliu',\n 'Sandro': 'Sandro',\n 'Botticelli': 'Botticelli',\n '条': 'tiao',\n '建议': 'jianyi',\n '送给': 'songgei',\n '不会': 'buhui',\n '定陶': 'dingtao',\n '第三届': 'disanjie',\n '玫瑰': 'meigui',\n '风情节': 'fengqingjie',\n '来': 'lai',\n '人之初': 'renzhichu',\n '性本善': 'xingbenshan',\n '性': 'xing',\n '恶': 'e',\n '建国': 'jianguo',\n '不过': 'buguo',\n '两百年': 'liangbainian',\n '成为': 'chengwei',\n '强国': 'qiangguo',\n '汤': 'tang',\n '透露': 'toulu',\n '防': 'fang',\n '关键': 'guanjian',\n '无惧': 'wuju',\n '保罗': 'baoluo',\n '绝招': 'juezhao',\n '因': 'yin',\n '防守': 'fangshou',\n '徙倚': 'xiyi',\n '三层': 'sanceng',\n '阁': 'ge',\n '摩挲': 'masa',\n '七': 'qi',\n '宝刀': 'baodao',\n '合肥': 'hefei',\n '一站式': 'yizhanshi',\n '商务': 'shangwu',\n '休闲': 'xiuxian',\n '购物中心': 'gouwuzhongxin',\n '开业': 'kaiye',\n '多个': 'duoge',\n '品牌': 'pinpai',\n '首次': 'shouci',\n '入驻': 'ruzhu',\n '安徽': 'anhui',\n '比特': 'bite',\n '币': 'bi',\n '大佬': 'dalao',\n '表示': 'biaoshi',\n '现金': 'xianjin',\n '超越': 'chaoyue',\n '石油': 'shiyou',\n '垃圾': 'laji',\n '浏览量': 'liulanliang',\n ...}"
     },
     "execution_count": 42,
     "metadata": {},
     "output_type": "execute_result"
    }
   ],
   "source": [
    "tot_dic = create_dic(''.join(train_sentences+test_sentences)) # dictionary over both whole dataset\n",
    "tot_dic"
   ],
   "metadata": {
    "collapsed": false,
    "pycharm": {
     "name": "#%%\n"
    }
   }
  },
  {
   "cell_type": "code",
   "execution_count": 44,
   "outputs": [
    {
     "data": {
      "text/plain": "51647"
     },
     "execution_count": 44,
     "metadata": {},
     "output_type": "execute_result"
    }
   ],
   "source": [
    "len(tot_dic)"
   ],
   "metadata": {
    "collapsed": false,
    "pycharm": {
     "name": "#%%\n"
    }
   }
  },
  {
   "cell_type": "code",
   "execution_count": 45,
   "outputs": [],
   "source": [
    "def tokenization(lines):\n",
    "    tokenizer = Tokenizer()\n",
    "    tokenizer.fit_on_texts(lines)\n",
    "    return tokenizer"
   ],
   "metadata": {
    "collapsed": false,
    "pycharm": {
     "name": "#%%\n"
    }
   }
  },
  {
   "cell_type": "code",
   "execution_count": 46,
   "outputs": [
    {
     "data": {
      "text/plain": "{'yi': 1,\n 'ji': 2,\n 'shi': 3,\n 'yu': 4,\n 'fu': 5,\n 'wei': 6,\n 'jian': 7,\n 'zhi': 8,\n 'qi': 9,\n 'yan': 10,\n 'xi': 11,\n 'li': 12,\n 'shu': 13,\n 'wu': 14,\n 'ju': 15,\n 'jing': 16,\n 'xian': 17,\n 'you': 18,\n 'jie': 19,\n 'xiao': 20,\n 'jiao': 21,\n 'yuan': 22,\n 'zhu': 23,\n 'han': 24,\n 'ying': 25,\n 'jin': 26,\n 'lu': 27,\n 'gu': 28,\n 'di': 29,\n 'yao': 30,\n 'yin': 31,\n 'qian': 32,\n 'xu': 33,\n 'shishi': 34,\n 'xiang': 35,\n 'hui': 36,\n 'bi': 37,\n 'zhen': 38,\n 'ba': 39,\n 'hu': 40,\n 'cheng': 41,\n 'he': 42,\n 'hao': 43,\n 'mi': 44,\n 'xun': 45,\n 'ke': 46,\n 'xie': 47,\n 'ya': 48,\n 'bo': 49,\n 'mo': 50,\n 'ye': 51,\n 'mei': 52,\n 'du': 53,\n 'jia': 54,\n 'ge': 55,\n 'ban': 56,\n 'yang': 57,\n 'jiang': 58,\n 'zheng': 59,\n 'yong': 60,\n 'feng': 61,\n 'dai': 62,\n 'xuan': 63,\n 'fan': 64,\n 'lv': 65,\n 'pu': 66,\n 'ling': 67,\n 'tan': 68,\n 'qu': 69,\n 'lian': 70,\n 'huan': 71,\n 'tong': 72,\n 'chi': 73,\n 'pi': 74,\n 'zhang': 75,\n 'ai': 76,\n 'bian': 77,\n 'ni': 78,\n 'xin': 79,\n 'bu': 80,\n 'shou': 81,\n 'bei': 82,\n 'e': 83,\n 'wan': 84,\n 'bao': 85,\n 'sheng': 86,\n 'xing': 87,\n 'gui': 88,\n 'qing': 89,\n 'shen': 90,\n 'zao': 91,\n 'si': 92,\n 'tang': 93,\n 'yun': 94,\n 'meng': 95,\n 'ci': 96,\n 'dan': 97,\n 'guan': 98,\n 'qiao': 99,\n 'gong': 100,\n 'shan': 101,\n 'mu': 102,\n 'jishi': 103,\n 'zi': 104,\n 'zhe': 105,\n 'jun': 106,\n 'yue': 107,\n 'chu': 108,\n 'jiu': 109,\n 'qin': 110,\n 'tu': 111,\n 'hong': 112,\n 'she': 113,\n 'fei': 114,\n 'lan': 115,\n 'fen': 116,\n 'tao': 117,\n 'yizhi': 118,\n 'su': 119,\n 'chang': 120,\n 'zhan': 121,\n 'sha': 122,\n 'ma': 123,\n 'gan': 124,\n 'shao': 125,\n 'ti': 126,\n 'ting': 127,\n 'shiwu': 128,\n 'dong': 129,\n 'long': 130,\n 'bang': 131,\n 'hua': 132,\n 'tian': 133,\n 'mao': 134,\n 'qishi': 135,\n 'chan': 136,\n 'ta': 137,\n 'zha': 138,\n 'lin': 139,\n 'an': 140,\n 'xia': 141,\n 'cai': 142,\n 'dian': 143,\n 'chen': 144,\n 'fang': 145,\n 'shiji': 146,\n 'jue': 147,\n 'zhao': 148,\n 'tai': 149,\n 'yishi': 150,\n 'wen': 151,\n 'shili': 152,\n 'chao': 153,\n 'diao': 154,\n 'gang': 155,\n 'luo': 156,\n 'man': 157,\n 'bing': 158,\n 'kui': 159,\n 'tuo': 160,\n 'ao': 161,\n 'shiyi': 162,\n 'pei': 163,\n 'kan': 164,\n 'dun': 165,\n 'zhong': 166,\n 'zuo': 167,\n 'zai': 168,\n 'wo': 169,\n 'liang': 170,\n 'song': 171,\n 'liu': 172,\n 'liao': 173,\n 'huo': 174,\n 'guo': 175,\n 'quan': 176,\n 'gao': 177,\n 'gou': 178,\n 'yiyuan': 179,\n 'qiu': 180,\n 'pan': 181,\n 'ping': 182,\n 'can': 183,\n 'wang': 184,\n 'zhou': 185,\n 'min': 186,\n 'jieshi': 187,\n 'dou': 188,\n 'ren': 189,\n 'ming': 190,\n 'qiang': 191,\n 'bai': 192,\n 'hou': 193,\n 'kai': 194,\n 'duo': 195,\n 'da': 196,\n 'dao': 197,\n 'rong': 198,\n 'jiyu': 199,\n 'gai': 200,\n 'chou': 201,\n 'geng': 202,\n 'zhuo': 203,\n 'juan': 204,\n 'cha': 205,\n 'wuyi': 206,\n 'ru': 207,\n 'lei': 208,\n 'chushi': 209,\n 'xiu': 210,\n 'miao': 211,\n 'xianshi': 212,\n 'ding': 213,\n 'peng': 214,\n 'zu': 215,\n 'po': 216,\n 'wushi': 217,\n 'shiwei': 218,\n 'bin': 219,\n 'na': 220,\n 'shang': 221,\n 'nian': 222,\n 'qie': 223,\n 'deng': 224,\n 'hai': 225,\n 'dang': 226,\n 'wa': 227,\n 'zhuang': 228,\n 'shengji': 229,\n 'jinji': 230,\n 'ou': 231,\n 'zhishi': 232,\n 'lang': 233,\n 'shiyan': 234,\n 'er': 235,\n 'lao': 236,\n 'la': 237,\n 'huang': 238,\n 'mian': 239,\n 'gongshi': 240,\n 'shizhi': 241,\n 'zong': 242,\n 'xingshi': 243,\n 'kun': 244,\n 'jincheng': 245,\n 'lou': 246,\n 'wuli': 247,\n 'zhengzhi': 248,\n 'fushi': 249,\n 'shexian': 250,\n 'shushi': 251,\n 'shijia': 252,\n 'shijing': 253,\n 'yushi': 254,\n 'yili': 255,\n 'de': 256,\n 'mai': 257,\n 'shoufu': 258,\n 'che': 259,\n 'bushi': 260,\n 'boli': 261,\n 'xiong': 262,\n 'zhuan': 263,\n 'ben': 264,\n 'qiyi': 265,\n 'shijian': 266,\n 'lun': 267,\n 'jihui': 268,\n 'chuang': 269,\n 'shoushi': 270,\n 'zhanshi': 271,\n 'xue': 272,\n 'yifu': 273,\n 'sui': 274,\n 'shixian': 275,\n 'lai': 276,\n 'qizhi': 277,\n 'pin': 278,\n 'yixiang': 279,\n 'pa': 280,\n 'zhai': 281,\n 'duan': 282,\n 'ku': 283,\n 'dali': 284,\n 'cu': 285,\n 'tui': 286,\n 'gua': 287,\n 'pao': 288,\n 'yiqi': 289,\n 'yiyi': 290,\n 'chong': 291,\n 'yiji': 292,\n 'chun': 293,\n 'die': 294,\n 'yijia': 295,\n 'cuo': 296,\n 'sa': 297,\n 'dadao': 298,\n 'jiashi': 299,\n 'lie': 300,\n 'zhiji': 301,\n 'kang': 302,\n 'biao': 303,\n 'zhongxing': 304,\n 'jingli': 305,\n 'yiju': 306,\n 'nao': 307,\n 'shishu': 308,\n 'lizi': 309,\n 'daban': 310,\n 'jizhi': 311,\n 'jixing': 312,\n 'yiwei': 313,\n 'xianqi': 314,\n 'fangzhi': 315,\n 'mang': 316,\n 'shizi': 317,\n 'youyu': 318,\n 'yicheng': 319,\n 'qingshi': 320,\n 'zhuzi': 321,\n 'wuzhi': 322,\n 'yibei': 323,\n 'wuji': 324,\n 'shouji': 325,\n 'dui': 326,\n 'gushi': 327,\n 'lishi': 328,\n 'chui': 329,\n 'shiye': 330,\n 'juxing': 331,\n 'ka': 332,\n 'jiemi': 333,\n 'huiwu': 334,\n 'shijie': 335,\n 'shiqi': 336,\n 'shiyong': 337,\n 'daji': 338,\n 'que': 339,\n 'yidong': 340,\n 'zhidao': 341,\n 'heng': 342,\n 'tou': 343,\n 'cong': 344,\n 'chengshi': 345,\n 'huoshi': 346,\n 'kuai': 347,\n 'niu': 348,\n 'men': 349,\n 'suo': 350,\n 'qizi': 351,\n 'jianzhi': 352,\n 'siji': 353,\n 'rui': 354,\n 'yiyang': 355,\n 'zhengshi': 356,\n 'pang': 357,\n 'gongli': 358,\n 'fuli': 359,\n 'yiti': 360,\n 'gege': 361,\n 'jiwei': 362,\n 'sun': 363,\n 'cang': 364,\n 'liangxiang': 365,\n 'yujia': 366,\n 'chuan': 367,\n 'dacheng': 368,\n 'zhongjiang': 369,\n 'hun': 370,\n 'shenyi': 371,\n 'chuji': 372,\n 'jianshi': 373,\n 'wuchang': 374,\n 'ce': 375,\n 'qingqing': 376,\n 'dianji': 377,\n 'youxian': 378,\n 'kua': 379,\n 'jiyi': 380,\n 'yike': 381,\n 'jinshi': 382,\n 'like': 383,\n 'jiazhuang': 384,\n 'piao': 385,\n 'nong': 386,\n 'dabao': 387,\n 'shiti': 388,\n 'qijian': 389,\n 'zhongzhi': 390,\n 'youyi': 391,\n 'youshi': 392,\n 'gongyi': 393,\n 'yijian': 394,\n 'shiqu': 395,\n 'sanjia': 396,\n 'shiguan': 397,\n 'jixiang': 398,\n 'ning': 399,\n 'danji': 400,\n 'fuyu': 401,\n 'yichu': 402,\n 'luan': 403,\n 'kou': 404,\n 'xinyi': 405,\n 'qijia': 406,\n 'jiqi': 407,\n 'shifu': 408,\n 'jidian': 409,\n 'yuxi': 410,\n 'weiqi': 411,\n 'wuzhong': 412,\n 'ran': 413,\n 'zhiyuan': 414,\n 'zhengqi': 415,\n 'xishi': 416,\n 'xinji': 417,\n 'yizhu': 418,\n 'dawei': 419,\n 'shouyi': 420,\n 'niao': 421,\n 'zhongshi': 422,\n 'bianzhi': 423,\n 'shengzhi': 424,\n 'jizi': 425,\n 'shitu': 426,\n 'jiechu': 427,\n 'shujia': 428,\n 'zhongqi': 429,\n 'jiezhi': 430,\n 'jinghua': 431,\n 'jiju': 432,\n 'tongji': 433,\n 'kuo': 434,\n 'wujian': 435,\n 'jiaozi': 436,\n 'jiaji': 437,\n 'mishi': 438,\n 'yanxi': 439,\n 'wanshi': 440,\n 'nie': 441,\n 'lizhi': 442,\n 'shouli': 443,\n 'zhuanzhi': 444,\n 'yuzhong': 445,\n 'zhizhi': 446,\n 'gala': 447,\n 'fuzhi': 448,\n 'dishi': 449,\n 'weiyu': 450,\n 'shuli': 451,\n 'shengyu': 452,\n 'jinshui': 453,\n 'dayu': 454,\n 'xiaohu': 455,\n 'shengjing': 456,\n 'yuanyang': 457,\n 'shuai': 458,\n 'rang': 459,\n 'gufen': 460,\n 'maijia': 461,\n 'gexing': 462,\n 'shoufa': 463,\n 'zui': 464,\n 'shui': 465,\n 'yisheng': 466,\n 'fuqi': 467,\n 'zhui': 468,\n 'ze': 469,\n 'xianjin': 470,\n 'jiushi': 471,\n 'pian': 472,\n 'buzhi': 473,\n 'tonghua': 474,\n 'zhibi': 475,\n 'xinfeng': 476,\n 'jieshou': 477,\n 'beijing': 478,\n 'yuyue': 479,\n 'jinxing': 480,\n 'gongji': 481,\n 'leisi': 482,\n 'kao': 483,\n 'xinyang': 484,\n 'zhuli': 485,\n 'weihe': 486,\n 'kuang': 487,\n 'quanxian': 488,\n 'weidu': 489,\n 'xiaoshi': 490,\n 'quanli': 491,\n 'shizu': 492,\n 'zhongyang': 493,\n 'sanji': 494,\n 'yijing': 495,\n 'tongzhi': 496,\n 'nu': 497,\n 'jianyi': 498,\n 'shangwu': 499,\n 'dashi': 500,\n 'zhixiao': 501,\n 'wuzi': 502,\n 'meiyuan': 503,\n 'jiedu': 504,\n 'kong': 505,\n 'pai': 506,\n 'liansheng': 507,\n 'weiji': 508,\n 'dixia': 509,\n 'ziji': 510,\n 'liqi': 511,\n 'bufu': 512,\n 'yizhan': 513,\n 'zou': 514,\n 'nuo': 515,\n 'sanxian': 516,\n 'xueyuan': 517,\n 'yuqi': 518,\n 'wanjia': 519,\n 'ceng': 520,\n 'heshi': 521,\n 'zhongxin': 522,\n 'dengji': 523,\n 'chuyi': 524,\n 'hen': 525,\n 'sai': 526,\n 'juzi': 527,\n 'zhiding': 528,\n 'zhiyi': 529,\n 'yiran': 530,\n 'diyu': 531,\n 'bie': 532,\n 'quancheng': 533,\n 'shoujia': 534,\n 'zhiai': 535,\n 'youqi': 536,\n 'yinxiang': 537,\n 'cun': 538,\n 'fengxian': 539,\n 'gun': 540,\n 'guang': 541,\n 'baoli': 542,\n 'qingyi': 543,\n 'zhicheng': 544,\n 'shihua': 545,\n 'san': 546,\n 'jixu': 547,\n 'jinxian': 548,\n 'lol': 549,\n 'dajie': 550,\n 'zhongjian': 551,\n 'zhiqian': 552,\n 'cao': 553,\n 'zan': 554,\n 'youren': 555,\n 'shenchu': 556,\n 'wuda': 557,\n 'chuxian': 558,\n 'me': 559,\n 'guli': 560,\n 'zhiye': 561,\n 'ershi': 562,\n 'fuzhou': 563,\n 'jizhong': 564,\n 'changchang': 565,\n 'a': 566,\n 'zhuanshu': 567,\n 'buji': 568,\n 'kejian': 569,\n 'yulin': 570,\n 'yidai': 571,\n 'zizhu': 572,\n 'huiji': 573,\n 'wangyou': 574,\n 'mou': 575,\n 'qiong': 576,\n 'nan': 577,\n 'mudi': 578,\n 'zijin': 579,\n 'jushi': 580,\n 'qizhong': 581,\n 'quchu': 582,\n 'yuyan': 583,\n 're': 584,\n 'renshi': 585,\n 'qifu': 586,\n 'huaxiang': 587,\n 'wuwei': 588,\n 'shige': 589,\n 'yujian': 590,\n 'zhongsheng': 591,\n 'jifu': 592,\n 'zhili': 593,\n 'o': 594,\n 'shengli': 595,\n 'renshou': 596,\n 'geli': 597,\n 'yuanxing': 598,\n 'yiwan': 599,\n 'banli': 600,\n 'jiaoshui': 601,\n 'teng': 602,\n 'xiangqi': 603,\n 'yuanzi': 604,\n 'buyi': 605,\n 'zhijian': 606,\n 'jili': 607,\n 'baishi': 608,\n 'baofu': 609,\n 'shengshi': 610,\n 'fangzhen': 611,\n 'xiancheng': 612,\n 'mianshi': 613,\n 'zhuyi': 614,\n 'chengxian': 615,\n 'dasheng': 616,\n 'jidu': 617,\n 'bali': 618,\n 'jinzhi': 619,\n 'mini': 620,\n 'xiangyu': 621,\n 'shiren': 622,\n 'shiming': 623,\n 'yuju': 624,\n 'xianren': 625,\n 'xiaoqu': 626,\n 'chai': 627,\n 'se': 628,\n 'jijin': 629,\n 'dahuo': 630,\n 'yifen': 631,\n 'shenhua': 632,\n 'chengji': 633,\n 'xianyi': 634,\n 'yida': 635,\n 'yizhang': 636,\n 'jianduan': 637,\n 'jiancha': 638,\n 'yiwu': 639,\n 'xinxing': 640,\n 'jiaxiang': 641,\n 'xiangxiang': 642,\n 'zhuanji': 643,\n 'jushou': 644,\n 'jiaju': 645,\n 'yanyu': 646,\n 'yitong': 647,\n 'qianyi': 648,\n 'shouqi': 649,\n 'yiyu': 650,\n 'tun': 651,\n 'huai': 652,\n 'dafa': 653,\n 'juzhong': 654,\n 'yanzhi': 655,\n 'jiaodai': 656,\n 'huashi': 657,\n 'nai': 658,\n 'qingyuan': 659,\n 'diqi': 660,\n 'cui': 661,\n 'wuxian': 662,\n 'sanbu': 663,\n 'shuzhi': 664,\n 'liangzhu': 665,\n 'jieti': 666,\n 'yuanshi': 667,\n 'yingshi': 668,\n 'zhiqu': 669,\n 'jiji': 670,\n 'xiaofang': 671,\n 'wuguan': 672,\n 'jicheng': 673,\n 'lixian': 674,\n 'xiaoji': 675,\n 'buli': 676,\n 'qujing': 677,\n 'qiqiu': 678,\n 'shouwei': 679,\n 'duzi': 680,\n 'fuzhong': 681,\n 'tingzhi': 682,\n 'jingwei': 683,\n 'guji': 684,\n 'yingdi': 685,\n 'youzi': 686,\n 'diji': 687,\n 'xinshi': 688,\n 'baodi': 689,\n 'liyi': 690,\n 'xiaoyi': 691,\n 'zizhi': 692,\n 'huli': 693,\n 'youli': 694,\n 'yanli': 695,\n 'hushi': 696,\n 'jiuwei': 697,\n 'siqi': 698,\n 'dafu': 699,\n 'zhijiao': 700,\n 'momo': 701,\n 'lianjie': 702,\n 'jiancheng': 703,\n 'weishi': 704,\n 'huishou': 705,\n 'qiju': 706,\n 'zhiyu': 707,\n 'daxia': 708,\n 'ga': 709,\n 'bufa': 710,\n 'yigu': 711,\n 'zhengji': 712,\n 'dayi': 713,\n 'jiujiu': 714,\n 'huafei': 715,\n 'jimin': 716,\n 'tongxin': 717,\n 'liuzhi': 718,\n 'yangji': 719,\n 'guai': 720,\n 'jiaoqi': 721,\n 'xiangjian': 722,\n 'sang': 723,\n 'yanhua': 724,\n 'xingxing': 725,\n 'jijia': 726,\n 'xiaofu': 727,\n 'yixing': 728,\n 'guoshi': 729,\n 'wuxu': 730,\n 'qijing': 731,\n 'zhanyi': 732,\n 'jizhan': 733,\n 'dama': 734,\n 'shenyuan': 735,\n 'dizhi': 736,\n 'buyu': 737,\n 'shouxian': 738,\n 'tushi': 739,\n 'qianxian': 740,\n 'qianzhi': 741,\n 'kaiyuan': 742,\n 'wifi': 743,\n 'zhisheng': 744,\n 'jimu': 745,\n 'beifen': 746,\n 'jinhua': 747,\n 'yinghua': 748,\n 'qingxing': 749,\n 'gezi': 750,\n 'xishu': 751,\n 'fuji': 752,\n 'yijiao': 753,\n 'qingfu': 754,\n 'quanshi': 755,\n 'shengcheng': 756,\n 'beng': 757,\n 'buqi': 758,\n 'dili': 759,\n 'changhe': 760,\n 'zhangsheng': 761,\n 'jieji': 762,\n 'shanshi': 763,\n 'shenji': 764,\n 'fengli': 765,\n 'yizai': 766,\n 'jiazi': 767,\n 'zhongyuan': 768,\n 'jingxin': 769,\n 'yidu': 770,\n 'huanghua': 771,\n 'wujin': 772,\n 'dingxing': 773,\n 'shuizhi': 774,\n 'jike': 775,\n 'fanli': 776,\n 'yuyi': 777,\n 'dahua': 778,\n 'weiwei': 779,\n 'qili': 780,\n 'jijian': 781,\n 'baijia': 782,\n 'liuxiang': 783,\n 'jiyuan': 784,\n 'zhucheng': 785,\n 'laoshi': 786,\n 'le': 787,\n 'dajia': 788,\n 'guanyu': 789,\n 'huifu': 790,\n 'shihou': 791,\n 'zhongjie': 792,\n 'jimo': 793,\n 'shouge': 794,\n 'or': 795,\n 'jingxi': 796,\n 'shuo': 797,\n 'maifang': 798,\n 'haishi': 799,\n 'zhuchang': 800,\n 'shigu': 801,\n 'fa': 802,\n 'wai': 803,\n 'chufa': 804,\n 'tongyi': 805,\n 'xieyi': 806,\n 'kuan': 807,\n 'youxi': 808,\n 'shichu': 809,\n 'shichang': 810,\n 'jianzhang': 811,\n 'pos': 812,\n 'shangji': 813,\n 'chuxi': 814,\n 'shuang': 815,\n 'qidong': 816,\n 'fahui': 817,\n 'shidai': 818,\n 'zhuti': 819,\n 'zhijie': 820,\n 'switch': 821,\n 'jidong': 822,\n 'libai': 823,\n 'daying': 824,\n 'baqi': 825,\n 'buke': 826,\n 'xiaoxiao': 827,\n 'difang': 828,\n 'sida': 829,\n 'jiangshi': 830,\n 'jungong': 831,\n 'zhineng': 832,\n 'dida': 833,\n 'juli': 834,\n 'tamen': 835,\n 'xijie': 836,\n 'guoji': 837,\n 'fuhuo': 838,\n 'dazhan': 839,\n 'shifen': 840,\n 'tiao': 841,\n 'chengwei': 842,\n 'wuju': 843,\n 'baodao': 844,\n 'ruzhu': 845,\n 'shiyou': 846,\n 'daye': 847,\n 'xiaoshou': 848,\n 'wuqi': 849,\n 'xianfeng': 850,\n 'shenghui': 851,\n 'jichang': 852,\n 'xiaomi': 853,\n 'vivo': 854,\n 'msi': 855,\n 'jibai': 856,\n 'weiyi': 857,\n 'shitou': 858,\n 'mianzhi': 859,\n 'dushu': 860,\n 'chuju': 861,\n 'jingji': 862,\n 'yingxiang': 863,\n 'shenqi': 864,\n 'qushi': 865,\n 'dnf': 866,\n 'pinwei': 867,\n 'kaifang': 868,\n 'buxing': 869,\n 'wanyi': 870,\n 'xiaoyuan': 871,\n 'shiqing': 872,\n 'daxian': 873,\n 'zhonghua': 874,\n 'qipao': 875,\n 'dijia': 876,\n 'bug': 877,\n 'fazi': 878,\n 'wusheng': 879,\n 'didi': 880,\n 'meijin': 881,\n 'shenqing': 882,\n 'siwei': 883,\n 'xinzhong': 884,\n 'shizhong': 885,\n 'huayi': 886,\n 'qiangxian': 887,\n 'yanjiang': 888,\n 'dongli': 889,\n 'jingdian': 890,\n 'ruo': 891,\n 'shenxian': 892,\n 'tongshi': 893,\n 'yisi': 894,\n 'shike': 895,\n 'jidi': 896,\n 'gaoxiao': 897,\n 'chushou': 898,\n 'luoji': 899,\n 'jichu': 900,\n 'guzhi': 901,\n 'guzhang': 902,\n 'dagong': 903,\n 'jiaren': 904,\n 'zhenghe': 905,\n 'shipin': 906,\n 'pingding': 907,\n 'gucheng': 908,\n 'xieshi': 909,\n 'suan': 910,\n 'bujin': 911,\n 'women': 912,\n 'gonggong': 913,\n 'guoqi': 914,\n 'beiji': 915,\n 'xinxiang': 916,\n 'qiye': 917,\n 'hang': 918,\n 'za': 919,\n 'qixian': 920,\n 'yizhong': 921,\n 'wujiang': 922,\n 'buru': 923,\n 'jiaofu': 924,\n 'zhixing': 925,\n 'dazhong': 926,\n 'qun': 927,\n 'anjian': 928,\n 'zang': 929,\n 'dadi': 930,\n 'renxing': 931,\n 'wuhou': 932,\n 'shangshi': 933,\n 'duifu': 934,\n 'jiaoshou': 935,\n 'yizhao': 936,\n 'tie': 937,\n 'zhenshi': 938,\n 'jingshi': 939,\n 'chuzhong': 940,\n 'xianxing': 941,\n 'beiqi': 942,\n 'baobao': 943,\n 'xiaoying': 944,\n 'meiyu': 945,\n 'laoban': 946,\n 'yinian': 947,\n 'xinpian': 948,\n 'xianzhi': 949,\n 'gongju': 950,\n 'shixiao': 951,\n 'buxiu': 952,\n 'rou': 953,\n 'fanghua': 954,\n 'baoan': 955,\n 'doudou': 956,\n 'zhiming': 957,\n 'jingdong': 958,\n 'jibao': 959,\n 'yingli': 960,\n 'lihai': 961,\n 'jianzai': 962,\n 'sheji': 963,\n 'zoushi': 964,\n 'zhiyin': 965,\n 'yichang': 966,\n 'miji': 967,\n 'zhanji': 968,\n 'jibian': 969,\n 'shixiang': 970,\n 'mali': 971,\n 'jiaoshi': 972,\n 'zhijin': 973,\n 'sixin': 974,\n 'hezhou': 975,\n 'qinggong': 976,\n 'cixi': 977,\n 'fudi': 978,\n 'kaiqi': 979,\n 'jiuhuo': 980,\n 'jingying': 981,\n 'yidui': 982,\n 'zhuxi': 983,\n 'tongxiang': 984,\n 'yingzi': 985,\n 'fuhua': 986,\n 'muji': 987,\n 'shengqi': 988,\n 'jianli': 989,\n 'jianjie': 990,\n 'chuxing': 991,\n 'baojing': 992,\n 'zhanli': 993,\n 'heli': 994,\n 'xiaozhang': 995,\n 'zhizheng': 996,\n 'tixing': 997,\n 'wuhui': 998,\n 'youming': 999,\n 'yiban': 1000,\n ...}"
     },
     "execution_count": 46,
     "metadata": {},
     "output_type": "execute_result"
    }
   ],
   "source": [
    "tot_pinyin = []\n",
    "for i in tot_dic:\n",
    "    tot_pinyin.append(tot_dic[i])\n",
    "pinyin_tokenizer = tokenization(tot_pinyin)\n",
    "pinyin_vocab_size = len(pinyin_tokenizer.word_index)+1\n",
    "pinyin_tokenizer.word_index"
   ],
   "metadata": {
    "collapsed": false,
    "pycharm": {
     "name": "#%%\n"
    }
   }
  },
  {
   "cell_type": "code",
   "execution_count": 47,
   "outputs": [
    {
     "data": {
      "text/plain": "40887"
     },
     "execution_count": 47,
     "metadata": {},
     "output_type": "execute_result"
    }
   ],
   "source": [
    "pinyin_vocab_size"
   ],
   "metadata": {
    "collapsed": false,
    "pycharm": {
     "name": "#%%\n"
    }
   }
  },
  {
   "cell_type": "code",
   "execution_count": 48,
   "outputs": [
    {
     "data": {
      "text/plain": "{'yi': 1,\n 'ji': 2,\n 'shi': 3,\n 'yu': 4,\n 'fu': 5,\n 'wei': 6,\n 'jian': 7,\n 'zhi': 8,\n 'qi': 9,\n 'yan': 10,\n 'xi': 11,\n 'li': 12,\n 'shu': 13,\n 'wu': 14,\n 'ju': 15,\n 'jing': 16,\n 'xian': 17,\n 'you': 18,\n 'jie': 19,\n 'xiao': 20,\n 'jiao': 21,\n 'yuan': 22,\n 'zhu': 23,\n 'han': 24,\n 'ying': 25,\n 'jin': 26,\n 'lu': 27,\n 'gu': 28,\n 'di': 29,\n 'yao': 30,\n 'yin': 31,\n 'qian': 32,\n 'xu': 33,\n 'shishi': 34,\n 'xiang': 35,\n 'hui': 36,\n 'bi': 37,\n 'zhen': 38,\n 'ba': 39,\n 'hu': 40,\n 'cheng': 41,\n 'he': 42,\n 'hao': 43,\n 'mi': 44,\n 'xun': 45,\n 'ke': 46,\n 'xie': 47,\n 'ya': 48,\n 'bo': 49,\n 'mo': 50,\n 'ye': 51,\n 'mei': 52,\n 'du': 53,\n 'jia': 54,\n 'ge': 55,\n 'ban': 56,\n 'yang': 57,\n 'jiang': 58,\n 'zheng': 59,\n 'yong': 60,\n 'feng': 61,\n 'dai': 62,\n 'xuan': 63,\n 'fan': 64,\n 'lv': 65,\n 'pu': 66,\n 'ling': 67,\n 'tan': 68,\n 'qu': 69,\n 'lian': 70,\n 'huan': 71,\n 'tong': 72,\n 'chi': 73,\n 'pi': 74,\n 'zhang': 75,\n 'ai': 76,\n 'bian': 77,\n 'ni': 78,\n 'xin': 79,\n 'bu': 80,\n 'shou': 81,\n 'bei': 82,\n 'e': 83,\n 'wan': 84,\n 'bao': 85,\n 'sheng': 86,\n 'xing': 87,\n 'gui': 88,\n 'qing': 89,\n 'shen': 90,\n 'zao': 91,\n 'si': 92,\n 'tang': 93,\n 'yun': 94,\n 'meng': 95,\n 'ci': 96,\n 'dan': 97,\n 'guan': 98,\n 'qiao': 99,\n 'gong': 100,\n 'shan': 101,\n 'mu': 102,\n 'jishi': 103,\n 'zi': 104,\n 'zhe': 105,\n 'jun': 106,\n 'yue': 107,\n 'chu': 108,\n 'jiu': 109,\n 'qin': 110,\n 'tu': 111,\n 'hong': 112,\n 'she': 113,\n 'fei': 114,\n 'lan': 115,\n 'fen': 116,\n 'tao': 117,\n 'yizhi': 118,\n 'su': 119,\n 'chang': 120,\n 'zhan': 121,\n 'sha': 122,\n 'ma': 123,\n 'gan': 124,\n 'shao': 125,\n 'ti': 126,\n 'ting': 127,\n 'shiwu': 128,\n 'dong': 129,\n 'long': 130,\n 'bang': 131,\n 'hua': 132,\n 'tian': 133,\n 'mao': 134,\n 'qishi': 135,\n 'chan': 136,\n 'ta': 137,\n 'zha': 138,\n 'lin': 139,\n 'an': 140,\n 'xia': 141,\n 'cai': 142,\n 'dian': 143,\n 'chen': 144,\n 'fang': 145,\n 'shiji': 146,\n 'jue': 147,\n 'zhao': 148,\n 'tai': 149,\n 'yishi': 150,\n 'wen': 151,\n 'shili': 152,\n 'chao': 153,\n 'diao': 154,\n 'gang': 155,\n 'luo': 156,\n 'man': 157,\n 'bing': 158,\n 'kui': 159,\n 'tuo': 160,\n 'ao': 161,\n 'shiyi': 162,\n 'pei': 163,\n 'kan': 164,\n 'dun': 165,\n 'zhong': 166,\n 'zuo': 167,\n 'zai': 168,\n 'wo': 169,\n 'liang': 170,\n 'song': 171,\n 'liu': 172,\n 'liao': 173,\n 'huo': 174,\n 'guo': 175,\n 'quan': 176,\n 'gao': 177,\n 'gou': 178,\n 'yiyuan': 179,\n 'qiu': 180,\n 'pan': 181,\n 'ping': 182,\n 'can': 183,\n 'wang': 184,\n 'zhou': 185,\n 'min': 186,\n 'jieshi': 187,\n 'dou': 188,\n 'ren': 189,\n 'ming': 190,\n 'qiang': 191,\n 'bai': 192,\n 'hou': 193,\n 'kai': 194,\n 'duo': 195,\n 'da': 196,\n 'dao': 197,\n 'rong': 198,\n 'jiyu': 199,\n 'gai': 200,\n 'chou': 201,\n 'geng': 202,\n 'zhuo': 203,\n 'juan': 204,\n 'cha': 205,\n 'wuyi': 206,\n 'ru': 207,\n 'lei': 208,\n 'chushi': 209,\n 'xiu': 210,\n 'miao': 211,\n 'xianshi': 212,\n 'ding': 213,\n 'peng': 214,\n 'zu': 215,\n 'po': 216,\n 'wushi': 217,\n 'shiwei': 218,\n 'bin': 219,\n 'na': 220,\n 'shang': 221,\n 'nian': 222,\n 'qie': 223,\n 'deng': 224,\n 'hai': 225,\n 'dang': 226,\n 'wa': 227,\n 'zhuang': 228,\n 'shengji': 229,\n 'jinji': 230,\n 'ou': 231,\n 'zhishi': 232,\n 'lang': 233,\n 'shiyan': 234,\n 'er': 235,\n 'lao': 236,\n 'la': 237,\n 'huang': 238,\n 'mian': 239,\n 'gongshi': 240,\n 'shizhi': 241,\n 'zong': 242,\n 'xingshi': 243,\n 'kun': 244,\n 'jincheng': 245,\n 'lou': 246,\n 'wuli': 247,\n 'zhengzhi': 248,\n 'fushi': 249,\n 'shexian': 250,\n 'shushi': 251,\n 'shijia': 252,\n 'shijing': 253,\n 'yushi': 254,\n 'yili': 255,\n 'de': 256,\n 'mai': 257,\n 'shoufu': 258,\n 'che': 259,\n 'bushi': 260,\n 'boli': 261,\n 'xiong': 262,\n 'zhuan': 263,\n 'ben': 264,\n 'qiyi': 265,\n 'shijian': 266,\n 'lun': 267,\n 'jihui': 268,\n 'chuang': 269,\n 'shoushi': 270,\n 'zhanshi': 271,\n 'xue': 272,\n 'yifu': 273,\n 'sui': 274,\n 'shixian': 275,\n 'lai': 276,\n 'qizhi': 277,\n 'pin': 278,\n 'yixiang': 279,\n 'pa': 280,\n 'zhai': 281,\n 'duan': 282,\n 'ku': 283,\n 'dali': 284,\n 'cu': 285,\n 'tui': 286,\n 'gua': 287,\n 'pao': 288,\n 'yiqi': 289,\n 'yiyi': 290,\n 'chong': 291,\n 'yiji': 292,\n 'chun': 293,\n 'die': 294,\n 'yijia': 295,\n 'cuo': 296,\n 'sa': 297,\n 'dadao': 298,\n 'jiashi': 299,\n 'lie': 300,\n 'zhiji': 301,\n 'kang': 302,\n 'biao': 303,\n 'zhongxing': 304,\n 'jingli': 305,\n 'yiju': 306,\n 'nao': 307,\n 'shishu': 308,\n 'lizi': 309,\n 'daban': 310,\n 'jizhi': 311,\n 'jixing': 312,\n 'yiwei': 313,\n 'xianqi': 314,\n 'fangzhi': 315,\n 'mang': 316,\n 'shizi': 317,\n 'youyu': 318,\n 'yicheng': 319,\n 'qingshi': 320,\n 'zhuzi': 321,\n 'wuzhi': 322,\n 'yibei': 323,\n 'wuji': 324,\n 'shouji': 325,\n 'dui': 326,\n 'gushi': 327,\n 'lishi': 328,\n 'chui': 329,\n 'shiye': 330,\n 'juxing': 331,\n 'ka': 332,\n 'jiemi': 333,\n 'huiwu': 334,\n 'shijie': 335,\n 'shiqi': 336,\n 'shiyong': 337,\n 'daji': 338,\n 'que': 339,\n 'yidong': 340,\n 'zhidao': 341,\n 'heng': 342,\n 'tou': 343,\n 'cong': 344,\n 'chengshi': 345,\n 'huoshi': 346,\n 'kuai': 347,\n 'niu': 348,\n 'men': 349,\n 'suo': 350,\n 'qizi': 351,\n 'jianzhi': 352,\n 'siji': 353,\n 'rui': 354,\n 'yiyang': 355,\n 'zhengshi': 356,\n 'pang': 357,\n 'gongli': 358,\n 'fuli': 359,\n 'yiti': 360,\n 'gege': 361,\n 'jiwei': 362,\n 'sun': 363,\n 'cang': 364,\n 'liangxiang': 365,\n 'yujia': 366,\n 'chuan': 367,\n 'dacheng': 368,\n 'zhongjiang': 369,\n 'hun': 370,\n 'shenyi': 371,\n 'chuji': 372,\n 'jianshi': 373,\n 'wuchang': 374,\n 'ce': 375,\n 'qingqing': 376,\n 'dianji': 377,\n 'youxian': 378,\n 'kua': 379,\n 'jiyi': 380,\n 'yike': 381,\n 'jinshi': 382,\n 'like': 383,\n 'jiazhuang': 384,\n 'piao': 385,\n 'nong': 386,\n 'dabao': 387,\n 'shiti': 388,\n 'qijian': 389,\n 'zhongzhi': 390,\n 'youyi': 391,\n 'youshi': 392,\n 'gongyi': 393,\n 'yijian': 394,\n 'shiqu': 395,\n 'sanjia': 396,\n 'shiguan': 397,\n 'jixiang': 398,\n 'ning': 399,\n 'danji': 400,\n 'fuyu': 401,\n 'yichu': 402,\n 'luan': 403,\n 'kou': 404,\n 'xinyi': 405,\n 'qijia': 406,\n 'jiqi': 407,\n 'shifu': 408,\n 'jidian': 409,\n 'yuxi': 410,\n 'weiqi': 411,\n 'wuzhong': 412,\n 'ran': 413,\n 'zhiyuan': 414,\n 'zhengqi': 415,\n 'xishi': 416,\n 'xinji': 417,\n 'yizhu': 418,\n 'dawei': 419,\n 'shouyi': 420,\n 'niao': 421,\n 'zhongshi': 422,\n 'bianzhi': 423,\n 'shengzhi': 424,\n 'jizi': 425,\n 'shitu': 426,\n 'jiechu': 427,\n 'shujia': 428,\n 'zhongqi': 429,\n 'jiezhi': 430,\n 'jinghua': 431,\n 'jiju': 432,\n 'tongji': 433,\n 'kuo': 434,\n 'wujian': 435,\n 'jiaozi': 436,\n 'jiaji': 437,\n 'mishi': 438,\n 'yanxi': 439,\n 'wanshi': 440,\n 'nie': 441,\n 'lizhi': 442,\n 'shouli': 443,\n 'zhuanzhi': 444,\n 'yuzhong': 445,\n 'zhizhi': 446,\n 'gala': 447,\n 'fuzhi': 448,\n 'dishi': 449,\n 'weiyu': 450,\n 'shuli': 451,\n 'shengyu': 452,\n 'jinshui': 453,\n 'dayu': 454,\n 'xiaohu': 455,\n 'shengjing': 456,\n 'yuanyang': 457,\n 'shuai': 458,\n 'rang': 459,\n 'gufen': 460,\n 'maijia': 461,\n 'gexing': 462,\n 'shoufa': 463,\n 'zui': 464,\n 'shui': 465,\n 'yisheng': 466,\n 'fuqi': 467,\n 'zhui': 468,\n 'ze': 469,\n 'xianjin': 470,\n 'jiushi': 471,\n 'pian': 472,\n 'buzhi': 473,\n 'tonghua': 474,\n 'zhibi': 475,\n 'xinfeng': 476,\n 'jieshou': 477,\n 'beijing': 478,\n 'yuyue': 479,\n 'jinxing': 480,\n 'gongji': 481,\n 'leisi': 482,\n 'kao': 483,\n 'xinyang': 484,\n 'zhuli': 485,\n 'weihe': 486,\n 'kuang': 487,\n 'quanxian': 488,\n 'weidu': 489,\n 'xiaoshi': 490,\n 'quanli': 491,\n 'shizu': 492,\n 'zhongyang': 493,\n 'sanji': 494,\n 'yijing': 495,\n 'tongzhi': 496,\n 'nu': 497,\n 'jianyi': 498,\n 'shangwu': 499,\n 'dashi': 500,\n 'zhixiao': 501,\n 'wuzi': 502,\n 'meiyuan': 503,\n 'jiedu': 504,\n 'kong': 505,\n 'pai': 506,\n 'liansheng': 507,\n 'weiji': 508,\n 'dixia': 509,\n 'ziji': 510,\n 'liqi': 511,\n 'bufu': 512,\n 'yizhan': 513,\n 'zou': 514,\n 'nuo': 515,\n 'sanxian': 516,\n 'xueyuan': 517,\n 'yuqi': 518,\n 'wanjia': 519,\n 'ceng': 520,\n 'heshi': 521,\n 'zhongxin': 522,\n 'dengji': 523,\n 'chuyi': 524,\n 'hen': 525,\n 'sai': 526,\n 'juzi': 527,\n 'zhiding': 528,\n 'zhiyi': 529,\n 'yiran': 530,\n 'diyu': 531,\n 'bie': 532,\n 'quancheng': 533,\n 'shoujia': 534,\n 'zhiai': 535,\n 'youqi': 536,\n 'yinxiang': 537,\n 'cun': 538,\n 'fengxian': 539,\n 'gun': 540,\n 'guang': 541,\n 'baoli': 542,\n 'qingyi': 543,\n 'zhicheng': 544,\n 'shihua': 545,\n 'san': 546,\n 'jixu': 547,\n 'jinxian': 548,\n 'lol': 549,\n 'dajie': 550,\n 'zhongjian': 551,\n 'zhiqian': 552,\n 'cao': 553,\n 'zan': 554,\n 'youren': 555,\n 'shenchu': 556,\n 'wuda': 557,\n 'chuxian': 558,\n 'me': 559,\n 'guli': 560,\n 'zhiye': 561,\n 'ershi': 562,\n 'fuzhou': 563,\n 'jizhong': 564,\n 'changchang': 565,\n 'a': 566,\n 'zhuanshu': 567,\n 'buji': 568,\n 'kejian': 569,\n 'yulin': 570,\n 'yidai': 571,\n 'zizhu': 572,\n 'huiji': 573,\n 'wangyou': 574,\n 'mou': 575,\n 'qiong': 576,\n 'nan': 577,\n 'mudi': 578,\n 'zijin': 579,\n 'jushi': 580,\n 'qizhong': 581,\n 'quchu': 582,\n 'yuyan': 583,\n 're': 584,\n 'renshi': 585,\n 'qifu': 586,\n 'huaxiang': 587,\n 'wuwei': 588,\n 'shige': 589,\n 'yujian': 590,\n 'zhongsheng': 591,\n 'jifu': 592,\n 'zhili': 593,\n 'o': 594,\n 'shengli': 595,\n 'renshou': 596,\n 'geli': 597,\n 'yuanxing': 598,\n 'yiwan': 599,\n 'banli': 600,\n 'jiaoshui': 601,\n 'teng': 602,\n 'xiangqi': 603,\n 'yuanzi': 604,\n 'buyi': 605,\n 'zhijian': 606,\n 'jili': 607,\n 'baishi': 608,\n 'baofu': 609,\n 'shengshi': 610,\n 'fangzhen': 611,\n 'xiancheng': 612,\n 'mianshi': 613,\n 'zhuyi': 614,\n 'chengxian': 615,\n 'dasheng': 616,\n 'jidu': 617,\n 'bali': 618,\n 'jinzhi': 619,\n 'mini': 620,\n 'xiangyu': 621,\n 'shiren': 622,\n 'shiming': 623,\n 'yuju': 624,\n 'xianren': 625,\n 'xiaoqu': 626,\n 'chai': 627,\n 'se': 628,\n 'jijin': 629,\n 'dahuo': 630,\n 'yifen': 631,\n 'shenhua': 632,\n 'chengji': 633,\n 'xianyi': 634,\n 'yida': 635,\n 'yizhang': 636,\n 'jianduan': 637,\n 'jiancha': 638,\n 'yiwu': 639,\n 'xinxing': 640,\n 'jiaxiang': 641,\n 'xiangxiang': 642,\n 'zhuanji': 643,\n 'jushou': 644,\n 'jiaju': 645,\n 'yanyu': 646,\n 'yitong': 647,\n 'qianyi': 648,\n 'shouqi': 649,\n 'yiyu': 650,\n 'tun': 651,\n 'huai': 652,\n 'dafa': 653,\n 'juzhong': 654,\n 'yanzhi': 655,\n 'jiaodai': 656,\n 'huashi': 657,\n 'nai': 658,\n 'qingyuan': 659,\n 'diqi': 660,\n 'cui': 661,\n 'wuxian': 662,\n 'sanbu': 663,\n 'shuzhi': 664,\n 'liangzhu': 665,\n 'jieti': 666,\n 'yuanshi': 667,\n 'yingshi': 668,\n 'zhiqu': 669,\n 'jiji': 670,\n 'xiaofang': 671,\n 'wuguan': 672,\n 'jicheng': 673,\n 'lixian': 674,\n 'xiaoji': 675,\n 'buli': 676,\n 'qujing': 677,\n 'qiqiu': 678,\n 'shouwei': 679,\n 'duzi': 680,\n 'fuzhong': 681,\n 'tingzhi': 682,\n 'jingwei': 683,\n 'guji': 684,\n 'yingdi': 685,\n 'youzi': 686,\n 'diji': 687,\n 'xinshi': 688,\n 'baodi': 689,\n 'liyi': 690,\n 'xiaoyi': 691,\n 'zizhi': 692,\n 'huli': 693,\n 'youli': 694,\n 'yanli': 695,\n 'hushi': 696,\n 'jiuwei': 697,\n 'siqi': 698,\n 'dafu': 699,\n 'zhijiao': 700,\n 'momo': 701,\n 'lianjie': 702,\n 'jiancheng': 703,\n 'weishi': 704,\n 'huishou': 705,\n 'qiju': 706,\n 'zhiyu': 707,\n 'daxia': 708,\n 'ga': 709,\n 'bufa': 710,\n 'yigu': 711,\n 'zhengji': 712,\n 'dayi': 713,\n 'jiujiu': 714,\n 'huafei': 715,\n 'jimin': 716,\n 'tongxin': 717,\n 'liuzhi': 718,\n 'yangji': 719,\n 'guai': 720,\n 'jiaoqi': 721,\n 'xiangjian': 722,\n 'sang': 723,\n 'yanhua': 724,\n 'xingxing': 725,\n 'jijia': 726,\n 'xiaofu': 727,\n 'yixing': 728,\n 'guoshi': 729,\n 'wuxu': 730,\n 'qijing': 731,\n 'zhanyi': 732,\n 'jizhan': 733,\n 'dama': 734,\n 'shenyuan': 735,\n 'dizhi': 736,\n 'buyu': 737,\n 'shouxian': 738,\n 'tushi': 739,\n 'qianxian': 740,\n 'qianzhi': 741,\n 'kaiyuan': 742,\n 'wifi': 743,\n 'zhisheng': 744,\n 'jimu': 745,\n 'beifen': 746,\n 'jinhua': 747,\n 'yinghua': 748,\n 'qingxing': 749,\n 'gezi': 750,\n 'xishu': 751,\n 'fuji': 752,\n 'yijiao': 753,\n 'qingfu': 754,\n 'quanshi': 755,\n 'shengcheng': 756,\n 'beng': 757,\n 'buqi': 758,\n 'dili': 759,\n 'changhe': 760,\n 'zhangsheng': 761,\n 'jieji': 762,\n 'shanshi': 763,\n 'shenji': 764,\n 'fengli': 765,\n 'yizai': 766,\n 'jiazi': 767,\n 'zhongyuan': 768,\n 'jingxin': 769,\n 'yidu': 770,\n 'huanghua': 771,\n 'wujin': 772,\n 'dingxing': 773,\n 'shuizhi': 774,\n 'jike': 775,\n 'fanli': 776,\n 'yuyi': 777,\n 'dahua': 778,\n 'weiwei': 779,\n 'qili': 780,\n 'jijian': 781,\n 'baijia': 782,\n 'liuxiang': 783,\n 'jiyuan': 784,\n 'zhucheng': 785,\n 'laoshi': 786,\n 'le': 787,\n 'dajia': 788,\n 'guanyu': 789,\n 'huifu': 790,\n 'shihou': 791,\n 'zhongjie': 792,\n 'jimo': 793,\n 'shouge': 794,\n 'or': 795,\n 'jingxi': 796,\n 'shuo': 797,\n 'maifang': 798,\n 'haishi': 799,\n 'zhuchang': 800,\n 'shigu': 801,\n 'fa': 802,\n 'wai': 803,\n 'chufa': 804,\n 'tongyi': 805,\n 'xieyi': 806,\n 'kuan': 807,\n 'youxi': 808,\n 'shichu': 809,\n 'shichang': 810,\n 'jianzhang': 811,\n 'pos': 812,\n 'shangji': 813,\n 'chuxi': 814,\n 'shuang': 815,\n 'qidong': 816,\n 'fahui': 817,\n 'shidai': 818,\n 'zhuti': 819,\n 'zhijie': 820,\n 'switch': 821,\n 'jidong': 822,\n 'libai': 823,\n 'daying': 824,\n 'baqi': 825,\n 'buke': 826,\n 'xiaoxiao': 827,\n 'difang': 828,\n 'sida': 829,\n 'jiangshi': 830,\n 'jungong': 831,\n 'zhineng': 832,\n 'dida': 833,\n 'juli': 834,\n 'tamen': 835,\n 'xijie': 836,\n 'guoji': 837,\n 'fuhuo': 838,\n 'dazhan': 839,\n 'shifen': 840,\n 'tiao': 841,\n 'chengwei': 842,\n 'wuju': 843,\n 'baodao': 844,\n 'ruzhu': 845,\n 'shiyou': 846,\n 'daye': 847,\n 'xiaoshou': 848,\n 'wuqi': 849,\n 'xianfeng': 850,\n 'shenghui': 851,\n 'jichang': 852,\n 'xiaomi': 853,\n 'vivo': 854,\n 'msi': 855,\n 'jibai': 856,\n 'weiyi': 857,\n 'shitou': 858,\n 'mianzhi': 859,\n 'dushu': 860,\n 'chuju': 861,\n 'jingji': 862,\n 'yingxiang': 863,\n 'shenqi': 864,\n 'qushi': 865,\n 'dnf': 866,\n 'pinwei': 867,\n 'kaifang': 868,\n 'buxing': 869,\n 'wanyi': 870,\n 'xiaoyuan': 871,\n 'shiqing': 872,\n 'daxian': 873,\n 'zhonghua': 874,\n 'qipao': 875,\n 'dijia': 876,\n 'bug': 877,\n 'fazi': 878,\n 'wusheng': 879,\n 'didi': 880,\n 'meijin': 881,\n 'shenqing': 882,\n 'siwei': 883,\n 'xinzhong': 884,\n 'shizhong': 885,\n 'huayi': 886,\n 'qiangxian': 887,\n 'yanjiang': 888,\n 'dongli': 889,\n 'jingdian': 890,\n 'ruo': 891,\n 'shenxian': 892,\n 'tongshi': 893,\n 'yisi': 894,\n 'shike': 895,\n 'jidi': 896,\n 'gaoxiao': 897,\n 'chushou': 898,\n 'luoji': 899,\n 'jichu': 900,\n 'guzhi': 901,\n 'guzhang': 902,\n 'dagong': 903,\n 'jiaren': 904,\n 'zhenghe': 905,\n 'shipin': 906,\n 'pingding': 907,\n 'gucheng': 908,\n 'xieshi': 909,\n 'suan': 910,\n 'bujin': 911,\n 'women': 912,\n 'gonggong': 913,\n 'guoqi': 914,\n 'beiji': 915,\n 'xinxiang': 916,\n 'qiye': 917,\n 'hang': 918,\n 'za': 919,\n 'qixian': 920,\n 'yizhong': 921,\n 'wujiang': 922,\n 'buru': 923,\n 'jiaofu': 924,\n 'zhixing': 925,\n 'dazhong': 926,\n 'qun': 927,\n 'anjian': 928,\n 'zang': 929,\n 'dadi': 930,\n 'renxing': 931,\n 'wuhou': 932,\n 'shangshi': 933,\n 'duifu': 934,\n 'jiaoshou': 935,\n 'yizhao': 936,\n 'tie': 937,\n 'zhenshi': 938,\n 'jingshi': 939,\n 'chuzhong': 940,\n 'xianxing': 941,\n 'beiqi': 942,\n 'baobao': 943,\n 'xiaoying': 944,\n 'meiyu': 945,\n 'laoban': 946,\n 'yinian': 947,\n 'xinpian': 948,\n 'xianzhi': 949,\n 'gongju': 950,\n 'shixiao': 951,\n 'buxiu': 952,\n 'rou': 953,\n 'fanghua': 954,\n 'baoan': 955,\n 'doudou': 956,\n 'zhiming': 957,\n 'jingdong': 958,\n 'jibao': 959,\n 'yingli': 960,\n 'lihai': 961,\n 'jianzai': 962,\n 'sheji': 963,\n 'zoushi': 964,\n 'zhiyin': 965,\n 'yichang': 966,\n 'miji': 967,\n 'zhanji': 968,\n 'jibian': 969,\n 'shixiang': 970,\n 'mali': 971,\n 'jiaoshi': 972,\n 'zhijin': 973,\n 'sixin': 974,\n 'hezhou': 975,\n 'qinggong': 976,\n 'cixi': 977,\n 'fudi': 978,\n 'kaiqi': 979,\n 'jiuhuo': 980,\n 'jingying': 981,\n 'yidui': 982,\n 'zhuxi': 983,\n 'tongxiang': 984,\n 'yingzi': 985,\n 'fuhua': 986,\n 'muji': 987,\n 'shengqi': 988,\n 'jianli': 989,\n 'jianjie': 990,\n 'chuxing': 991,\n 'baojing': 992,\n 'zhanli': 993,\n 'heli': 994,\n 'xiaozhang': 995,\n 'zhizheng': 996,\n 'tixing': 997,\n 'wuhui': 998,\n 'youming': 999,\n 'yiban': 1000,\n ...}"
     },
     "execution_count": 48,
     "metadata": {},
     "output_type": "execute_result"
    }
   ],
   "source": [
    "hanzi_tokenizer = tokenization(tot_dic)\n",
    "hanzi_vocab_size = len(hanzi_tokenizer.word_index)+1\n",
    "pinyin_tokenizer.word_index"
   ],
   "metadata": {
    "collapsed": false,
    "pycharm": {
     "name": "#%%\n"
    }
   }
  },
  {
   "cell_type": "code",
   "execution_count": 49,
   "outputs": [
    {
     "data": {
      "text/plain": "51297"
     },
     "execution_count": 49,
     "metadata": {},
     "output_type": "execute_result"
    }
   ],
   "source": [
    "hanzi_vocab_size"
   ],
   "metadata": {
    "collapsed": false,
    "pycharm": {
     "name": "#%%\n"
    }
   }
  },
  {
   "cell_type": "markdown",
   "source": [
    "# Prepare Train and Test Dataframes"
   ],
   "metadata": {
    "collapsed": false
   }
  },
  {
   "cell_type": "code",
   "execution_count": 50,
   "outputs": [],
   "source": [
    "def by_topic(topics, sentences):\n",
    "    dataset_by_topic = {}\n",
    "    for i in range(len(topics)):\n",
    "        try:\n",
    "            dataset_by_topic[topics[i]].append(sentences[i])\n",
    "        except:\n",
    "            dataset_by_topic[topics[i]] = [sentences[i]]\n",
    "    return dataset_by_topic"
   ],
   "metadata": {
    "collapsed": false,
    "pycharm": {
     "name": "#%%\n"
    }
   }
  },
  {
   "cell_type": "code",
   "execution_count": 60,
   "outputs": [
    {
     "data": {
      "text/plain": "['上课时学生手机响个不停，老师一怒之下把手机摔了，家长拿发票让老师赔，大家怎么看待这种事？',\n '肥乡区：让文明新风吹进千家万户',\n '学生党买什么笔记本电脑好？',\n '如何看待人民日报发文痛批“沉睡中的大学生:你不失业，天理难容！”这件事？',\n '南京晓庄五年一贯制专转本培训简章 2019年博大五年制专转本辅导',\n '驾驶证考试预约是按什么规则进行排序的？',\n '省“双创计划”项目申报工作启动',\n '关于人工智能方面的研究生专业有哪些？',\n '大揭秘：特种部队“手势语”图解',\n '学校或老师有没有权利没收学生手机？',\n '. Sandro Botticelli',\n '人之初性本善、还是性本恶？',\n '在加拿大可以赖账不还？3万名学生赖帐2亿，加拿大政府一笔勾销',\n '河南灵宝：「实验二小」首届“励耘杯”优秀教师事迹展播（七）',\n '当孩子问读书有什么用？这是我见过最好的回答！',\n '上联：大学生，研究生，博士生，三生有幸。下联应如何对？',\n '九江学院附属医院顺利开展2018年兼职班主任竞聘选拔',\n '整体上讲，中国大学同美国大学比较起来，主要的差距在哪？',\n '有哪些能让人流泪的句子？',\n '济南一小学要设\"无作业日\"，家长怎么看？',\n '蒲城县林则徐纪念馆李永红喜获渭南市“五一”劳动奖章',\n '如何轻松过四级？',\n '初中生上什么技校？',\n '丰安轮滑，尽显风采',\n '学计算机的已经烂大街了吗？',\n '如何看待有骨气的曹汝霖？',\n '告别午后枯燥，全新南昌教育资讯',\n '初中毕业零基础，去技术学校学计算机编程怎么样？这个行业现在可行吗？',\n '十里春风不如你，小玉为何自杀？',\n '你见过最努力的人现在都混成什么样子了？',\n '有哪些申请签证的技巧？',\n '高一因病在家休学一年，应该做什么事？',\n '“汉语桥”阿富汗赛区比赛落幕',\n '全国职业教育“奥林匹克”开赛 福州三学子摘金',\n '云梦县会融入孝感，成为孝感的一个区吗？',\n '省教育厅公示：南通这些教师拟选拔为优秀青年骨干、中青年学术带头人！资助科研经费4-10万元不等',\n '奥巴马任总统时每年都要去几次的“公立常春藤”大学就是它',\n '云波小学首届“校长杯”校园足球联赛开赛',\n '2018初级会计职称考试题型有哪些？怎么答？',\n '原来这四年就决定了孩子的一辈子，却被很多家长奢侈地挥霍掉了！',\n '特朗普的数学题好难解答',\n '「安青印记」清风明月好时光',\n '智能结算、营养管理，合工大智慧食堂又双叒叕上了央视！',\n '“抢人大战”后该如何留人 专家：并非靠撒钱就能实现',\n '“十年·十人”汶川地震十年祭 一代芳华未尽 十载重生记忆',\n '申请英国大学硕士，这些事项必须了解！',\n '老师打了学生一耳光，学生立刻打了老师一耳光，你怎么看？',\n '上课时学生手机响个不停，老师一怒之下把手机摔了，家长拿发票让老师赔，大家怎么看待这种事？',\n '怎样能把孩子送入985大学？',\n '高三学生加紧复习迎战高考 毛坦厂中学会再现万人送考景象吗？',\n '湖北道路运输从业资格证办理流程',\n '上海财经大学、中央财经大学、对外经济贸易大学，三者之间应该如何选择？',\n '吉大师生深入古丈县机关幼儿园调研“环创”',\n '怎么远离一个不值得交往的人？',\n '青川 郁郁生长不停息',\n '对你而言，噩梦学科是哪门或哪几门学科？',\n '上周刷爆朋友圈的扎心广告，翻译成英文版送给你',\n '今天，扬州市1700多人争夺611个职位！公务员面试考题了解下',\n '河南新密的雀之灵舞蹈学校，都参加过哪些比较重要的比赛？',\n '文科生和理科生的区别，你中招了吗…………',\n '海口有高校开设电竞专业了？！上课可以光明正大打游戏了？',\n '流浪狗扰乱正常教学秩序，破坏学生们生活，该怎么办？',\n '西安交大和哈工大，哪个好？',\n '管鲍之交 国学大师钱穆与顾颉刚',\n '初学书法：先从认真写字开始 一手好字就是不断写出来的',\n '学习韩语的5大秘诀都在这里啦',\n '同为中部城市，郑州与武汉长沙相比，其优势和短板分别在哪里？',\n '为什么说学棋的孩子不会变坏？',\n '刚毕业的大学生该如何面对当前的就业环境？',\n '清华北大公布一份名单，从中看出北京中学实力大排名！',\n '白衣、燕帽、烛光，你们是人间最美的符号！',\n '名师传艺 高手云集 花境师技能研修班下月在贵州开班',\n '事业单位人员可参加事业单位考试吗？',\n '“三点半”接送孩子难的家长快看！河北1市中小学全面开展“延时服务”',\n '好消息！本周三件民生大事，不容错过！',\n '这4大迹象表明孩子成绩正在退步，早发现早解决！',\n '厦门大学和武汉大学哪个大学更好？',\n '米多客：大学生创业软件强有力的支撑和保障',\n '中国古代的教师是一个高薪职业吗？',\n '火了！“这样的作业给我来一打！” 东北农业大学老师的金句评语走红！',\n '马布里在纽约同中国留学生进行交流赛',\n '师范毕业了，我什么不想当老师？',\n '接一下电话',\n '北京职业教育改革发展行动计划 重点建设10所世界一流职业院校',\n '每日一专业数字媒体技术',\n '当小学生遇到了填空题，老师都要哭！第三个妈妈看见了想打人',\n '明确目标，借力前行，会让你成功的更快「财富智慧听出来」',\n '上课时学生手机响个不停，老师一怒之下把手机摔了，家长拿发票让老师赔，大家怎么看待这种事？',\n 'cpa一年六门大家怎么安排呢？',\n '英国版时间都去哪儿了｜我们总要珍惜时间，毕竟它失去了找不回来',\n '女生当警察适不适合？',\n '天天记单词：durable',\n '北大教授：华夏文明史至少10000年，是世界古代文明的源头？',\n '“活”出效率 “活”出质量',\n '大学宿舍关系可以可怕到什么程度？玛德吓哭了！',\n '佛山市青少年武术比赛开幕，291名武术达人同台竞技',\n '广东考生注意了！明年起高考体育内容调整掷实心球改为推铅球',\n '法律职业资格考试报名什么时候开始？和往年司考报名一样吗',\n '据说这道小学智力题100人只有2人会解，你可以吗？',\n '澧州实验学校：阳光十分钟 文明伴我行',\n '上课时学生手机响个不停，老师一怒之下把手机摔了，家长拿发票让老师赔，大家怎么看待这种事？',\n '一年一度广州“市长杯”南沙赛区开打',\n 'Alexa, Siri和谷歌助理可以听到你不能听到的无声命令',\n '市内五区仅15人申请成功 郑州购房补贴政策遇冷',\n '苹果上线Classroom! 体验“机房式”教学，iPad打通教育国内能行？',\n '我是一位将要退伍军人！已经高中毕业！又想回去上高三复读！给点建议？',\n '《销售技巧》：学会同领导沟通',\n '首届中国高校智能机器人创意大赛决赛在浙江余姚举行',\n '现在什么专业好就业？发展前景怎么样？',\n '我校蔡雨晴、田司宇、林长城三位师生荣获“沈阳市五四奖章”',\n '故事你真的在听吗',\n '关于人工智能方面的研究生专业有哪些？',\n '初心不改！马克思怎样“在逆境中崛起”？',\n '湖南5月教师招聘最新岗位1823个职位',\n '纪姿含有什么才艺？',\n '中国校友财富榜出炉，一人带飞一所学校，马云这次又厉害了！',\n '90后毕业生5万创业养猪场，一觉醒来猪圈瘟疫死光了！',\n '孩子成绩好不好，从书包就能看出来！',\n '初中物理考点、难点大汇总！孩子背完，保管3年都不愁！',\n '宁波镇海 骆驼2家 300平美术机构转让',\n '在没有分解动作的情况下，如何根据一个舞蹈视频来学习舞蹈？',\n '热烈祝贺金万鸿国际集团深圳前海金万鸿实业有限公司通过ISO认证',\n '低分怎么考上好大学？',\n '上课时学生手机响个不停，老师一怒之下把手机摔了，家长拿发票让老师赔，大家怎么看待这种事？',\n '为什么山东大学会逐渐没落？',\n '纹身艺术家的水彩作品赏析',\n '当你忍不住对孩子发火，请耐心读完“牵一只蜗牛去散步”这首诗！',\n '高考只有二十多天了，有孩子要高考的家长，这段时间你们会对孩子怎么样？',\n '峰会活动：首届中国高校智能机器人创意大赛决赛在浙江余姚举行',\n '陈锡尧教授：专注中国体育赛事研究',\n '澳洲留学生上学途中遇袭被抢 浑身是血！中国学生或成攻击目标！',\n '弦律与和弦该如何搭配？',\n '常德市五中举行《家校共育健康美德少年》专题讲座',\n '中考生物选择题需要掌握的技巧（解题方法）',\n '言叶之庭：一场雨把你困在了这里',\n '浙大学生创新创业基地“海创空间”揭牌',\n '毛坦厂中学与衡水中学谁的升学率高些？',\n '在线教育：这样的静待花开，恰恰是害了孩子！（3-6岁家长必读）',\n '高考志愿影响了你的未来吗？',\n '杨振宁说：把中学生送到美国读书非常危险，你怎么评价？',\n 'OPPO成功的秘诀是什么？有什么可以学习的吗？',\n '开播获好评，王者气度空降长城：《我的逆天神器》到底凭什么逆天',\n '学生现状：书包压完了小腰，作业吞噬了睡眠……',\n '吉他好学吗，怎样可以快速入门？',\n '曾创办多家知名网站，现在造汽车，他却只有高中学历',\n 'Vive Reality教育新时代：VR+AR+5G+AI',\n '琅琊新闻网科技小记者首次亮相 参与机器人竞赛直播',\n '“在我的后园，可以看见墙外有两株树，一株是枣树，还有一株也是枣树”这句话妙在哪里？',\n '考生注意！倒计时一个月 今年高考有这些新变化！',\n '忆农村80后的初中生涯',\n '未来5年，AI+学习将呈现这五大趋势！你准备好了吗？',\n '母亲节给妈妈做碗宝鸡面，就是要把她宠上天！',\n '如何自学金融？',\n '天哲教育给初三家长的建议：认清从初中到高中的转变',\n '如何让娃娃听懂AI和量子？',\n '严母的深情（散文）',\n '第四届以色列—中国关系研讨会在特拉维夫举行',\n '女生学什么技术好就业？',\n '「保教活动」观摩促交流 研讨助提升',\n '中国体坛模范夫妻！邹市明冉莹颖微博亲密互动引围观',\n '宿舍晚报｜惊不惊喜意不意外？马云低调现身杭师大课堂旁听',\n '报考指南｜新生报考自考，是选择专业还是选择学校？',\n '怎样看待那些站着说话不腰疼的人？',\n '教师资格证到编制教师有四个过关门槛，你知道吗？',\n '汉字奠基梦想 书写成就未来！',\n '肥沃的近义词是什么？',\n '有什么无神论解释或证据可以证明上帝不存在？',\n '广东外语外贸大学南校区学一食堂二楼三楼引进合作项目招标',\n '25本！梁启超推荐的一份青年人国学入门书单',\n '转身的记忆',\n '师说——果雪儿国学幼儿园联盟院润然与你共读《论语》',\n '肥东县举办“放飞中国梦 高歌新时代”主题演讲比赛',\n '韩语等级考试报名',\n '汇总丨河南省自主招生初审通过情况分析，高一高二考生家长作参考',\n 'UG小白该如何学习呢？从哪些地方开始呢？',\n '独具特色的“名校跑团”助力东马~共400名选手！',\n '小蜘蛛，我不想死',\n '网络空间安全，是一个什么样的学科？',\n '初中，高中毕业的你们现在混的怎么样了？',\n '物理与数学是什么关系？',\n '王俊凯《明日歌》高考前被传唱，一个高考后还能影响莘莘学子的人',\n '鉴赏｜历任北大校长的书法，你打几分？',\n '徐州中国矿业大学和北京中国矿业大学，哪个是分校？哪个较好较健全？',\n '常州经开区成立3年推进24个重点民生实事项目',\n '「安全」“防震减灾日”举行防震减灾演练',\n '“爸爸妈妈，我不想参加竞选！”',\n '冲高还是保底，你知道指标生该怎么用吗？',\n '教师面试忘记板书怎么办？教你临场补救2大招',\n '读书比什么都重要',\n '追忆长征岁月，感恩革命先辈',\n '2018初级会计职称考试题型有哪些？',\n '安福县开展全民阅读谷雨诗会活动',\n '白敬亭：时间总会证明，我不是谁的替代品',\n '兰州千名萌娃趣味运动会大PK 冀打破传统享受体育',\n '关于鸟儿 知多少？这堂趣味环保课告诉你',\n '电影院轻松杠杆操作赚取 500 万',\n 'dessert和desert到底哪个是“甜点”？这些单词一定要搞清楚！',\n '中国审计学的高级学府，坐落于美丽的六朝古都',\n '农村教师和城里教师工资待遇有区别吗？',\n '2018年小升初语文常考知识点',\n '孩子在医院大声吵闹，护士劝阻，孩子：我伯伯是院长，你惹不起我',\n '扶贫必扶智 苏州捐资千万助力贵州铜仁职校建设',\n '怎样看待当前地域黑的问题？',\n '北京年薪40万以上的程序员多吗？',\n '汉旺学生撑起520平方米巨幅国旗，齐喊：“我爱您，祖国”',\n '湖南师范大学和陕西师范大学哪个更好？',\n '记者探访：安徽毛坦厂镇各地学生就读 逾万家长陪读',\n '你有没有曾经为了一个谎言而付出大代价？',\n '母亲节献礼，给母亲一个意想不到的节日！',\n '试问为什么我开车到平湖高级技工学校跑步却说不对外开放？',\n '蔡徐坤更博：平安抵达，网友：KUN和IKUN永远不会分开',\n '班主任一直体罚学生怎么办？',\n '人与人的差距是怎样拉开的？',\n '2018年福建20万考生6月迎战高考 今年福建取消两类加分',\n '教育部：坚决防止因撤并乡村小规模学校导致学生上学困难',\n '鼓号声声 队旗飘扬｜南通举行首届“少年号角杯”少先队鼓号队展演活动（视频）',\n '如果孩子正在上小学，这份资料请务必收藏，语文成绩不下96分！',\n '2019年US News美国研究生金融（Finance）专业排名',\n '重庆对四川的招生情况怎么样？',\n '2018年四川高考及招生录取工作时间安排表',\n '哈轻校荣获国赛“机电一体化设备组装与调试”项目团体三等奖',\n '孩子上了一年级，就别在微信群里问这3类问题，会招老师反感',\n '送孩子上幼儿园 家长别做这五件事',\n '蒋方舟：饶了孩子吧，讨好的人生不会快乐',\n '南通一教师有偿补课被家长举报 遭党内警告及行政记过处分',\n '广东出台民办教育实施意见，促进民办教育健康发展',\n '你信吗？98%复杂问题的背后都有一个简单的解决方案',\n '教育资源云集的西湖区，2018年学区房价格到什么水平了？（下篇）',\n '肇庆30余家校外托管机构被勒令停办',\n '因为汶川需要所以我留下来',\n '谢娜 四川德阳中江县人 中国主持人、歌手、影视女演员',\n '「高考志愿填报」金融专业到底是什么？有什么优缺点呢？',\n '我国第一家“北冰洋研究中心”成立！就在山东',\n '请对号入座：2018执业药师考试—新/老考生报名流程',\n '最怕孩子有天赋却被粗心的爹妈耽误，看看你家娃是哪种类型人才',\n '梦回十年，你还会选择自己的母校和就读专业吗？',\n '“青春洗礼” 这样的成年礼你看过吗？',\n '上课时学生手机响个不停，老师一怒之下把手机摔了，家长拿发票让老师赔，大家怎么看待这种事？',\n '洛杉矶华裔骨灰级学生玩家非常高兴能把游戏变成科学来学习',\n '华南理工大学、大连理工大学和北京理工大学谁最厉害？',\n '做妈妈的，别把自己逼死了',\n '如何练习把篮球投进篮筐的技巧？',\n '中考数学真题详解——因动点产生的面积问题',\n '解析教育中人工智能承担的12种角色，未来教师的核心价值在哪里？',\n '延边大学怎么样？',\n '河北各地限制衡水中学招生？',\n '马云又搞事情，阿里看不上清华北大毕业生，却喜爱非名校的学生！',\n '温暖龙岩之龙院前身一',\n '上学有用吗？',\n '如果不补课，现在学校的课堂上学到的知识能考上清华北大吗？',\n '北京有房的外地人，超10年的社保，孩子义务教育能上到什么时候？',\n '硅藻泥和贝壳粉哪个更有发展前景？为什么？',\n '写给高考生：如果现在不解决，只能后悔莫及……',\n '2天思维导图视频直播课+电子书+思维导图全套素材，全部免费送！',\n '程序猿，你还可这样实现财务自由',\n '香港特区政府推出“科技人才入境计划”',\n '武汉高校“女神”教师十余年写下千余篇暖心育人日志',\n '2018年“三支一扶”开始报名啦啦啦！',\n '宝鸡市2018年义务教育入学方案出台 不得通过考试招生',\n '现在农村户口好还是城市户口好？',\n '你认为有哪些话可以概括人生？',\n '格局到底是什么意思？',\n '如何提高高中数学，物理，化学的成绩？',\n '景德镇学生午餐里出现苍蝇、吸管等异物？速派公司这样回应……记者现场探访！',\n '重庆时时彩之稳赚方法',\n '孩子最反感家长的一句话，直接影响亲子关系！',\n '为啥专科上3年、本科上4年、学医要5年？医学院校以及专业全解读',\n '托班被曝“虐童”视频，多名孩子遭脚踢推搡',\n '快中考了，英语一点都不会怎么办？',\n '2018法律职业资格考试大纲近日公布',\n '从“强硬的孩子”来改变代理人',\n '对绝大多数家庭来说，这就是现实',\n '如有瑶台客，相难复索归',\n '“问道当代愚公，传承奋斗精神”中国好少年人文研学之旅来关山大景区参观学习',\n '如果你选择出国留学，哪个国家、城市、地区是你的首选？为什么？',\n '什么是深度主题阅读？我们为什么要进行深度阅读？',\n '灵宝职专：适时启动创业教育培训，助推学生综合素质提高',\n '数学史话之中国数学的萌芽先秦数学',\n '四川今年将招聘4200名特岗教师 5月8日起报名',\n '耐心少女编织的精妙世界',\n '北影老师发文开除王凯文，网友：说出来的话，做出来的事让人不齿',\n '建（构）筑物消防员实操考试成绩公示（2018.05.11）',\n '有哪些可以推荐的既健康又能减肥的食物呢？',\n '中医院校学生，如何准备考研？',\n '如果你的孩子在学校受同学欺凌，作为父母你应该怎么做？',\n '2019年考研｜天了噜！这个专业新增1000+招生名额',\n '52岁教书匠心声！教书30年，北大清华孩子真不是我教的？',\n '《愚公移山》应不应该退出初中语文课本？',\n '你在教育上，是“穷人的思维”吗？',\n '男友表达能力太差了该怎么办？',\n '许褚战吕布、赵云、典韦、马超都没输，为何只排名第八？',\n '小学生家长群：家长说老师辛苦被怼，是礼貌还是拍马屁',\n '211大学录取研究生时，会对英语六级有要求吗？',\n '可怜天下父母心，楼市里的“孟母三迁”现代版',\n '游客可以随便进浙江大学校园参观吗？',\n '考生迟到2分钟被拒进入高考考场应该吗？',\n '母亲节到了，送给妈妈的礼物准备好了吗？',\n '国家公务员考试资料分析之——必须掌握的十大统计术语',\n '高考临近，家长需要在这期间注意一些什么？',\n '为什么学习好的学生都不考师范学校？',\n '极限挑战黄渤提的六个问题，你能走几步？父母又能帮孩走几步？',\n '小学数学抽屉原则问题：例题及解析详见正文',\n '我花了2W报班，啊，我只花了20……',\n '为什么山东大学会逐渐没落？',\n '不算吃亏（民间故事）',\n '仪式助力，跨过“第二次诞生”之门',\n '毕业季：好政策帮找好工作',\n '中国千人计划 去年聘用381名外籍专家 致力于科技发展',\n '2018公务员考试：十大热门专业，准备成公的高考生参考',\n '金砖国家大学体系首个合作办学机构落地河南省 华水乌拉尔学院今年开始招生',\n '电脑程序为什么不能用中文？',\n '“中国礼乐美学对传统制度文明的创构研究”开题报告会',\n '考驾照一次性通过，并不一定是技术好！你忽略了最关键的因素！',\n '沈阳市中学生足球联赛落幕',\n '一句高赞评论让我顿悟：全职妈妈价值不被承认，是女性最好的福利',\n '刷题有技巧，下海需谨慎一套试题顶5套的正确刷题方式',\n '生命教育到底是一种怎样的教育？',\n '成都高新区启动“金熊猫”人才专项奖励申报',\n '热血青春趴！最美校服+这就是街舞+美食……我在凯德广场等你！',\n '加拿大经济学硕士申请',\n '高三生对校债“认捐”，学校能安心收下？',\n '儿子考上大学后，爸爸在村口放鞭炮庆祝，最后把自己送进了警察局',\n '离高考还有30天，不愿意努力怎么办？',\n '现在什么专业好就业？发展前景怎么样？',\n '大部分喜欢看书的文化人，都输在了仪式感……',\n '关爱老人，感恩社会',\n '达茂交警以家长会为契机宣传联动护校',\n '活动｜母亲节，为母亲奏响一曲康乃馨！',\n '教师资格面试“试讲提问”六大技巧卡片，注意查收',\n '作为学生，孩子每天坚持哪些习惯，新学期绝对傲立年级前三？',\n '反超计划~期中过了，期末还远吗？',\n '你如何看待申请助学金却因为有个苹果手机被刷下来？',\n '艺术放飞梦想 运动尽显风流——南阳市八中第十届体育艺术节',\n '聚焦今日深圳教育的新变化',\n '有哪些话，曾经让你坚信不疑，现在却不屑一顾',\n '语文老师蒋晓英：嘉陵江畔有一片“小花的田野”',\n '如何选择多媒体教学系统',\n '「时政动态」当读书成为习惯，尚德善行墨韵香',\n '教你感恩，伴你成长',\n '小学阶段运算法则口诀，让孩子记住就会提升计算能力，后有练习',\n '美中下一代教育基金会走访高中贫困学子',\n '黑龙江工程学院举行2018年征兵启动暨应急突击连授旗仪式',\n '滨州9名考生被北大清华看中！名单公布！有你的认识的吗？',\n '河南人为什么真的这么难？！',\n '老师会因为什么而讨厌一个学生的家长？',\n '你见过最好的爱情是什么样',\n '潍坊首届高中学生辩论赛：80名辩手上演巅峰对决',\n '江华：兴非遗 赛长鼓',\n '小学必背古诗词15首',\n '孩子转学了，老师把转学的家长全部踢出了微信和QQ群，老师这样的做法合适吗？',\n '倒计时一个月！今年高考有哪些新特点？',\n '英文期刊高大上的统计图和模式图都是怎么做出来的？',\n '严禁宣传高考状元，鹿晗那样帅的，也不行！',\n '在北上广月薪2万的人都是做什么工作的？',\n '中南财经政法大学分专业招生计划、录取分数',\n '家长不要脸，孩子上课说话被罚站，推轮椅到教育局，老师被处分',\n '不要在这样看美剧了！没用的！',\n '宝宝睡觉老不踏实，是什么原因造成的？',\n '东北人说方言的时候真的以为自己说的是标准普通话吗？',\n '戴上“燕尾帽” 从此救死扶伤',\n '想和大英博物馆做邻居？皇家霍洛威中央伦敦校区满足你！',\n '多城上演“抢人戏码” 谁才是最后的赢家！',\n '200名特别的少年，亲手种下74亩梨，背后的故事暖哭了全国网友！',\n '国内含金量最高的5所大学，虽低调但潜力十足，考上就是金饭碗！',\n '如何循序渐进提高逻辑能力？',\n '不敢管、不能管？教师缘何不再举“戒尺”',\n '课堂评价十大误区',\n '随笔丨我就是个积极废人！',\n '高质量的经济学论文，应该怎样写作？',\n '「原创」小小巡逻队 守护大平安',\n '一件事证明你的母亲有多爱你',\n '最全！初级考试《经济法基础》思维导图！赶快收走，查漏补缺吧！',\n '机器人对现代生活的冲击',\n '最美龙岩，最美龙院',\n '郑州和西安哪个城市更有“一线相”？',\n '防灾减灾丨高温台风有啥影响 杭州气象台请你免费听课',\n '女孩有古风诗意的名字',\n '30年，乡村中小学校大变迁，为何面临塌陷？',\n '衡水市区大吗？',\n '名校的研究生好考吗？',\n '农村供养一个女大学生要多少钱？',\n '2018年起，这9项费用统统不要钱，农民要早知道，少花很多钱！',\n '什么级别的老师才能高考阅卷？',\n '你好，你有一份考卷等待查收',\n '晚餐plus——青岛今日教育新闻晚报',\n '驾照考试科目二是怎样排队考试的？',\n '西南交通大学、兰州大学和东北大学哪个好？',\n '一级建造师-机电-消防部分「图示大全」，看过豁然开朗，必过！',\n '你们考研是为什么？',\n '别再逼孩子学习了，先花1天时间做此事，新学期成绩突飞猛进！',\n '哈佛大学招生歧视亚裔？录取率还创新低！怎么打这场翻身仗',\n '《红星照耀中国》魅力何在',\n '为什么好多孩子小学成绩都九十多分，到初中就好多不及格了？',\n '事业编制｜乌海广播电视台招聘4名播音员',\n '服刑人员进入监狱首先干什么？揭秘监狱入监教育',\n '繁体字有恢复的必要吗？',\n '普通大学里的生药学硕士研究生有必要读吗？',\n '牡丹正艳，一股青春的气息飞扬河州大地｜上海大学生文化志愿者献艺临夏大剧院',\n '文献速递：家长认为城市中患有哮喘的中小学生体力活动障碍的观点',\n '美国中小学教育那么差，为什么能获得那么多诺贝尔奖？',\n '2018滁州市直、两区学校公开选调教师19人公告',\n '兴隆山旅游管理中心招聘工作人员名单新鲜出炉',\n '19翻硕考研复习资料-汉语百科知识（13）',\n '晚餐plus——东莞今日教育新闻晚报',\n '浙江高校女生影像还原西方经典油画 据说相似度高达99%！',\n '重磅！四川省2018年高考方案公布，全面取消特长生等加分项目',\n '师生之流言蜚语（情感故事）',\n '河南省大学排名是怎样的？',\n '“笞尻”的学问',\n '一个省级优秀教师，在重点中学代物理，所教的班级分别是全年级倒数第一和倒数第二，怎么回事？',\n '有谚语说“船到桥头自然直”，为什么会自然直呢？',\n '高中班主任：这三类孩子学习虽然不出色，但将来一定可以非常优秀',\n '微信家长群怎么做最得体？有通知要不要回复收到？来听老师的心声',\n '耶鲁非洲裔学生公共区域小憩遭报警 引发全美讨论',\n '速围观！宿迁市2018年入围公务员面试人选名单出炉~',\n '现在银行招聘是不是都是内招？',\n '从我做起——“小手拉大手”共建“美丽庭院”',\n '旋转过程位置讨论的一道好题——河北2017中考数学25题简化题二',\n '翡翠教育贯彻协同育人，加速人工智能人才培养计划',\n '甘肃省特岗教师考试培训学习的教育机构哪一家成功率高？',\n '如何看待初二女学生因为老师上课批评她“自己不学，不要打扰其他人学”，后来她找人把老师给打了？',\n '洛宁青年互助会领导莅临九派集团总部参观交流',\n 'vacation, vocation “假期” “职业”一次分清，永不混淆',\n '农村孩子是读完大学好，还是早早出去打工好，看完一目了然',\n '毛笔书法练习',\n '上联：窗前清风拂月，有哪些合适的下联？',\n '汶川记忆丨他们的十年',\n '距离一建4个月，如何提高记忆力，背熟知识点？',\n '济南小学入学需要这些材料，家长们要提前准备好',\n '汶川震区大变样',\n '512汶川地震10周年，回忆，是为了不遗忘',\n '小学生高校食堂写作业：不会的问大学生，他们也做错，只能靠自己',\n '受力筋、分布筋、架立筋、箍筋等钢筋详解，工程人必备！',\n '基友Gay蜜组团同居，就选Urbanest！',\n '「提醒」这类证，大学生千万别考！后悔都来不及',\n '学厨师去哪里？',\n '杭州一超级班主任，当班主任一年半，写下84万字心得！牛到飞起！',\n '身份证最后一位X的意义？',\n '留言板丨一个月后你会为现在拼命的自己而感动流泪',\n '井陉矿区贾庄中学举办多彩家长会',\n '余一鸣：每个人都曾经慌慌张张',\n '浅议幼升小公民同招政策对公办小学和民办小学生源的影响',\n '拜文昌开智慧祈福法',\n '倒计时！2018幼升小面谈下周末开始！',\n '今天散去，余生难聚',\n '“三支一扶”部分岗位取消或核减 报名费会如数退还',\n '2018年高考什么专业最吃香？',\n '小学文化自认怂逼如今靠写作月收入过万，咋做到的呢？',\n '西昌学院怎么样？',\n '对于大学生穿超短裙你怎么看？',\n '云浮中学学生“沉迷”代码，原是为省机器人大赛做准备',\n '老爸“卧底”死亡游戏群，儿子其实你并不孤独！',\n '清华北大的本科生毕业后一般做什么工作？很多人都不知道',\n '在剧场遇到熊孩子怎么办？',\n '南京和杭州，谁的实力更胜一筹？',\n '高考之后老师都在干什么？',\n '班级里女生太多男生太少是什么体验？',\n '外地人如果要落户在北京，需要哪些必备的条件？',\n '成都首位“蓉城人才绿卡”专家落户金牛区',\n '自考本科选择什么专业好？',\n '父爱如山，天下有多少父亲做到了？',\n '怎样才能快速从零学好英语？',\n '原子创客 造物坊精品系列课程来袭，重点是还免费！',\n '中国花样滑冰协会尝试“跨界”选拔冰舞人才',\n '这所大学被称为“最低调的985”，工科实力强，无奈知道的人不多',\n '西城小学组织学生进行社会实践活动',\n '知识点：粒子间作用力与晶体17条重要知识，纯干货，要收藏！',\n '马云的这句话刷屏朋友圈：不要让你的孩子成为马云第二！',\n '通讯：从语言课堂到文化桥梁——记孔子学院走进土耳其10周年',\n '为什么朱婷可以通过面试成为北师大研究生？原来女排里有学霸',\n '陕西省政府政策例行吹风会',\n '学习充电的机会来啦~书法培训、国画培训，共60个免费名额！',\n '10年后 汶川震区大变样',\n '天降正义！非洲人在中国虐待乞讨者，被一脚踹飞',\n '东阿一中：勃勃生机的“老字号”名校',\n '玉溪市易门县2018年农村劳动力转移就业育婴员培训班开班',\n '考不上双一流大学怎么办？这些大学值得选择！',\n '这个专业很“坑人”，听起来像医学专业，其实根本没资格当医生',\n '重庆文科生二模470分左右，可以报哪些重庆地区的学校？',\n '同学欠钱不愿意还怎么办？',\n '哈市一套学区房半月暴涨18万！买学区房真的值得么？',\n '定边县脱贫攻坚风采展「教育局」',\n '母亲节：记忆里最温暖的，是母亲的怀抱(1/)',\n '敬畏生命——写在汶川地震十周年',\n '吉林大学考古系怎么样？',\n '第三届“青年之声·青春创客”同济大学专场路演成功举办',\n '“温情五月，爱在方田”亲子活动报名啦！',\n '北京市少儿足球邀请赛开幕',\n '市南11所幼儿园改名，市机关园更名安徽路幼儿园',\n '高中英语语法知识很差，如何提高做题能力？',\n '中国什么大学电气专业最好？',\n '世界微笑日 你笑了吗',\n '高考临近，家长需要在这期间注意一些什么？',\n '为什么郑州大学能超越其它211大学入选“双一流”？',\n '申请美国艺术类大学需要注意些什么',\n '「2018通往无限可能」爆炸力十足启德高管全国宣讲长沙站',\n '2018年4月考试成绩放榜！',\n '中国研究生最多的大学有哪些？',\n '16岁考上博士！现在逼父母在北京买房？上不上大学还重要吗？',\n '成语接龙（妙趣横生，适合互动，积累词汇，建议收藏！）',\n '走进32所高校，覆盖千万大学生：腾讯的UCL会是中国高校电竞的未来吗？',\n '把这3个动作坚持下来，健身效果不比去健身房差',\n '非全日制研究生毕业后拿到硕士学位能到大学任教吗？',\n '合肥整治校外培训机构：严禁在职教师兼职授课',\n '凤天乘云｜勇敢大步前进，不做佛系少女~',\n '走进明星扎堆儿的南加州大学',\n '泰山区将建岱庙实验学校新校区！预计6月底前开工！',\n '百余博士将于9月入学！西湖大学招生面试有何不同',\n '老祖宗的智慧 论语精选注解 高考必背经典古诗文名句 收藏好了',\n '美国卡耐基梅隆大学开设人工智能专业',\n '济南大学城实验高级中学2018年引进优秀高层次教育人才',\n '游泳教练员证书报考',\n '今日份的“鸡汤”：别让任何人打乱你的人生节奏',\n '去电脑城买电脑应该注意什么？',\n '毕业季，你们的眼泪准备好了吗',\n '创业：一场乌托邦式的试验！',\n '追随诸彦登龙尾——雷贤平名师工作室启动',\n '为什么选择学汽车技术？来，万姐告诉你',\n '不可错过的南宁教育晚汇报',\n '今年二建监理都不在一起了，你们这下没有理由不通过了吧？',\n '穷酸大学生爱上清丽脱俗的发廊女孩，也让她死于非命',\n '中国最伟大的科学家袁隆平，是哪所985或211毕业的？',\n '《解放》解放了什么？说唱剧《解放》明日将走进延安鲁艺进行讲座',\n '随声附和的人喻为什么？在线等！',\n '基金从业资格证书的含金量怎么样？',\n '永远没有出息的六种人，里面有你吗？',\n '在小学的时候学习不好，上初中后会逆袭吗？',\n '南京将会是下一个北上广吗？',\n '怎么练英语腔？',\n '「原创」揭秘书法班系列之你真的了解书法培训班吗？知道怎么选吗',\n 'java入门需要多久？',\n '致快乐大本营：如果给一个期限，我希望是一万年',\n '莎士比亚｜一个人思虑太多，就会失去做人的乐趣',\n '最近想出国，没什么英语水平，想学英语，有什么？',\n '做托管是做小饭桌好还是品牌托管好？',\n '母女共传承 喜迎护士节',\n 'Boost Happy Hour！学习这么神圣的事情，没点仪式感怎么能行？',\n '袁崇焕纪念园拓展博物馆功能，博物馆日将迎来更多精彩活动',\n '大理州漾濞一中初中部老师张海鹰——学高为师身正为范',\n '9成大学生每日上网娱乐超过2小时，你真的在图书馆里认真学习吗？',\n '自闭症儿童是天才吗？',\n '因为名字，你可能错过了人生的一次选择',\n '榆林广播电视大学举行春季开放教育新生开学典礼暨入学教育',\n '高中毕业干什么好？',\n '为什么小学五年级学历的莫言能获得诺贝尔文学奖，而很多大学的文学博士、文学院教授却不能？',\n '马云改叫马博士？还想去见马克思？他还说自己是个淘气小男孩？',\n '怎样用一句话把“我爱你”说的很文艺？',\n '《这就是街舞》人气选手袋鼠与小学生斗舞',\n '中国专家组培训巴布亚新几内亚学生收割水稻',\n '厉害了！2年后的海口将全面爆发！',\n '中考阅读专项复习：词语的赏析',\n '文科生高考385能上二本学校吗？',\n '最悲伤作文成“乌龙”，谁该反思？',\n '剑桥大学面试，帝国理工预录，美国攻读数学……她的经历与众不同',\n 'NBA球员在场上对飚的脏话大体是什么内容，恶劣程度如何？',\n '不忘初心，牢记使命，新龙青年“各显神通”！',\n '你为什么学日语？',\n '那年高考前，我读了很多书 初中生竟做着大学梦！',\n '驾考新规后科目三最难的是什么？',\n '《极限挑战》不努力，你的子女也会成为没有伞的孩子',\n '去英国留学，手机网络怎么解决？',\n '统一战线唱响“五一口号”发布70周年音乐会',\n '甘肃理科考生450分能报什么学校？',\n '山东7所高校发布高考综合评价招生简章，千万别错过！',\n '现在的小孩连牛都不认得？清新区二幼的小孩第一个不同意',\n '《这就是街舞》人气选手袋鼠与小学生斗舞',\n '什么是互联网教育？',\n '读书认知与非暴力沟通',\n '哈尔滨一套学区房半月暴涨18万！背后的推手到底是什么？',\n '幼儿园老师误发朋友圈，聪明的家长发现老师秘密，却不知如何是好',\n '排行榜｜快看你家公众平台上没上榜！',\n '梦空间设计师马建：良材无修，百无一用，榫卯相合，可铸琼楼',\n '男童在峨眉金顶平台上大便，当环卫工人阻止时反被家长回呛，你怎么评价？',\n '农村都是如何解决光棍问题的？',\n '国考录用阶段放弃会记入诚信档案吗？',\n '将以前的三本与二本合并招生的初衷是什么？',\n '科二没考过要不要先练科三？',\n '留学去哪个国家比较好？',\n '谢谢您，马克思！',\n '幼小衔接 | 一位一年级妈妈写给幼儿园毕业班家长的信',\n '大一上学期挂了四科，该怎么改变现状？',\n 'Alexa，Siri，和谷歌助手可以听到你不能听到的无声命令',\n '金小归位！仙林湖房价已提前狂欢半年，月涨5万！',\n '跟着唐诗去旅行，同诗圣杜甫再登慈恩寺塔',\n '为什么大家宁愿花500万买学区房，也不愿意花200万让孩子从小到大上国际学校？',\n '木直讲故事——我的逗比兄弟老七（下）',\n '格桑梅朵进成都 参观建川博物馆',\n '果蔬绘笑脸 笑迎微笑日',\n '喂！那个谁？就剩一个月了！就这样拼吧！',\n '发挥专业优势 主动融入作为 332地质队助力黄山研学发展',\n '首师大教授方海光：学校的界限会因互联网、区块链等技术而被淡化',\n '关注｜重磅：生物、地理暂缓纳入全省中招考试科目',\n '这位美女老师红了！都是学生父亲的“功劳”',\n '教育培训行业适合做小程序吗？应该从哪些方面着手？',\n '2018年扬州这个学校的招生人数和报名方式有了不少改变啊！',\n '当年汶川的范跑跑，靠名气成功转型！竟说全国人民因汶川变疯癫！',\n '一年级语文下册第七单元《一分钟》课文朗读及课后练习',\n '幕墙铝单板材料的质量如何甄别？',\n '省级规划教材怎样才可以参编',\n '日记回家，空降兵捡到遇难女孩日记，保存十年！',\n '衡中班主任一针见血：凡是有这5个坏习惯的孩子，成绩铁定差！',\n '龙腾虎跃，看几多健儿摘金夺银；风和日丽，喜三千吴钩射雕揽月',\n '没有经验，没有技术，没有资金而又想网络赚钱，改怎么做？',\n '如何学习网络营销课程？',\n '下一个C位出道就是你的宝宝',\n '驻马店的黄淮学院怎么样？',\n '百名萌娃趣味运动会大PK 税收普法嗨翻天',\n '栖霞区人社局组织10余南京企业1000余岗位走进商洛职院',\n '特长生还是要招的！扬州普通高中有7所学校成为试点了！',\n '来看各武将是如何应对「期末考试」的',\n '还在担心毕业后找不到工作吗？双流正在做这事，快来看看吧！',\n '科目三考试时要注意哪些细节？',\n '初级会计职称《初级会计实务》每日一练：应收账款',\n '思，考，者',\n '重庆一小学体育老师罚学生赤脚跑操场脚底磨出泡',\n '上课时学生手机响个不停，老师一怒之下把手机摔了，家长拿发票让老师赔，大家怎么看待这种事？',\n '国企跟事业单位、公务员有什么区别？',\n '买保险避税，真的有用吗？',\n '叮咚，您有一份10万元奖金待查收，请速速验收',\n '为什么人们常说清华北大，却很少说北大清华呢？',\n '现在学习编程，学什么语言比较好？',\n '孩子有必要从小开始接触并学习机器人教育吗？',\n '外国人问：“我去”在中国是什么意思？',\n '你曾经在路上捡到过什么东西呢？网友：捡了条6斤的鱼！',\n '校园午餐工程落实得咋样？',\n '为何高铁乘务员的标准越来越接近空姐？',\n '有没有什么可以快速背完文言文的方法？',\n '上课时学生手机响个不停，老师一怒之下把手机摔了，家长拿发票让老师赔，大家怎么看待这种事？',\n '信阳师院生命科学学院成功举办2018年考研经验交流会',\n '遥忆2008｜记录事件、展望新时代',\n '考生注意！倒计时一个月，今年高考有这些新变化→',\n '最吃香的5门大学专业，毕业生名企抢着要，薪资6000保底！',\n '负面影响！《原创微小说》',\n '你必须要：教孩子管理时间',\n '素描人像：美院老师用炭笔起形，一样可以画的这么“超写实”',\n '冲刺阶段，拿到这样的市政实务整理资料，你还担心吗？',\n '固始县永和实验小学举行期中考试总结表彰大会',\n '屡次创业成功，公开晒价值上亿的股票，他却只有高中学历！',\n 'yan是不是整体认读音节？',\n '考研爱情如何兼顾',\n '有哪些名气不是特别大，但是专业非常强的大学？',\n '怎样才能人见人爱？研究表明：你得先给自己洗脑……',\n '如何破解海量阅读的难点',\n '合肥三模450分能上什么学校？',\n '你口中的LOW和外国人说的LOW不是一个意思',\n '荆州市第十一届中等职业学校专业技能大赛举行',\n '八一路街道桃山社区举办 “博雅杯”诗词大会',\n '女儿今年高考，希望将来能进入公安系统工作，该报哪些院校能最终能稳妥分配到公安系统呢？',\n '有什么软件可以听英国的BBC电台英语吗？',\n '如何写好日记？',\n '英语美句｜10句奥黛丽赫本座右铭送给你！',\n '这周末公办小学现场报名，这些事情宁可多看也不能不看！',\n '原民办教师也是劳动者',\n '数据工具集合，小白也能轻松上手的大数据，自助查询全网数据',\n '如何引导孩子成为一个自信的阅读者',\n '井陉县第25届“时刻听党话 永远跟党走”讲故事演讲比赛圆满落幕',\n '最有料的食安宣传活动在这里，不容错过！',\n '“华文教育名师巡讲团”巴黎开讲',\n '什么是十年寒窗苦读？',\n '今起报名！四川省今年招聘4200名特岗教师（内附岗位招聘表）',\n 'CAD中切线和相切圆的画法-无锡安卓学习',\n '为什么现代大多有名的书法家所写的楷书都是欧体？',\n '有哪些让你过目不忘的广告语？',\n '这三种普通的家庭，能培养出优秀的孩子，快看你家是不是？',\n '当女人放弃了依靠任何人，就会活得越来越恣意',\n '教师资格面试流程是怎样的？',\n '初中生进入青春期家长该如何教育？',\n '三星S9和note8，哪款更好？',\n '上课时学生手机响个不停，老师一怒之下把手机摔了，家长拿发票让老师赔，大家怎么看待这种事？',\n '新加坡英国文化协会，助你从“青铜”到“王者”！',\n '“小升初”新政落地家长焦虑 该不该给娃报个班',\n '第130课-《流行性脑脊髓膜炎》',\n '小学数学思维导图汇总！留着以后教孩子，超实用！',\n '更多外来娃可享厦门免费义务教育',\n '小猫逮老鼠能摆多少老鼠？',\n '基地用戒尺电棍“管孩子” 传统文化变棒打学生？',\n '手绘环保袋向塑料购物袋说不',\n '辩论走着（民间故事）',\n '操控机器人，制作美食……这些职校生的技能超出你想像',\n '张益达的这部3集片有多少人看过',\n '18岁学美术晚吗？',\n '七炸和八炸的差别在哪儿？在这！',\n '全国艺术职业院校表演赛在天津举行',\n '因没有回微信，家长骂老师，你怎么看？',\n '南京 我喜欢的一个城市',\n '强迫学生参加自己的高额补课班，南通一小学女教师被处分',\n '父亲的8条教育理念影响我一生',\n '读书一定要“有用”吗？',\n '高校打印只需要1毛钱一张，要打印做共享打印挣钱吗？',\n '一个猿族英雄的史诗',\n '流浪狗扰乱正常教学秩序，破坏学生们生活，该怎么办？',\n '一个买书老手来谈谈：如何选择一本好书？',\n '在中山，这三个字就代表着“有身份有文化”',\n '记者、编辑如何工作？让初回“娘家”的兰州晨报小记者们告诉你！',\n '著名儿童文学作家郑春华做客呼和浩特',\n '马上到毕业季了，该如何准备？',\n '如何成为一个好的思考者？',\n '你所不知道科学家：1.49米的清华体育五虎将——钱伟长',\n '500强刚说完不限学历，转身去了211招聘！',\n 'CMA考试，失败N次后，非科班的我终于全科通过了，我的秘诀是……',\n '北京有哪些和上海交大、同济同水平的大学？',\n '俄语长句的翻译要从哪里下手，如何学习？',\n '平行透视规律与原理详细图解',\n '秋季新增林百欣中学300个初中学位 2020年将建金晖庄初中部',\n '中国赴美学生签证下降 特朗普移民政策惹的祸？',\n '9月份以后出生的孩子是不是要上4年幼儿园才能上小学？',\n '面试官：上班可以穿短裤，你会穿吗？我转身就走，直接被录用',\n '教育部指定11本中小学书法教材，作为国家课程教学用书！',\n '作者接下来想要讲什么？',\n '对症下药：8炸的必选之路',\n '中国托管行业前景：优胜劣汰法则“三项”缺一不可',\n '玩要玩得痛快 学就要学的精彩',\n '中国武术段位制2018年青岛武术协会初段位考评30日在杏林武苑举行',\n '国网山东电力公司2015-2018届招聘解读',\n '对于学生在考试中抄袭的现象，有什么好的解决办法吗？',\n '这5位院士告诉你，培养孩子一定要关注这10个字……',\n '有多少211大学可能要降成普通一本？高三考生擦亮眼睛',\n '天津2018年普通高等学校招生工作都有哪些新的规定？',\n '真正的好生意，从不需要自吹自擂',\n '他高考749分，差一分就满分，快来看看学霸是怎样练成的！',\n '上课时学生手机响个不停，老师一怒之下把手机摔了，家长拿发票让老师赔，大家怎么看待这种事？',\n '苏州小娘鱼破译“水八仙”基因 鸡头米和莼菜最亲？',\n '网竞文化电竞教育荣获“2017行业年度最具潜力电竞教育奖”',\n '如果人生到了最后，你最割舍不了的是谁？',\n '上课时学生手机响个不停，老师一怒之下把手机摔了，家长拿发票让老师赔，大家怎么看待这种事？',\n '现在对于学习UI有什么特别的要求吗？零基础真的可以吗？',\n '怎样学好数学？',\n '苏州今早必知的那些事儿',\n '总有一所山西的大学是你心中的大学',\n '为什么现在初中生的压力这么大呢？',\n '上课时学生手机响个不停，老师一怒之下把手机摔了，家长拿发票让老师赔，大家怎么看待这种事？',\n '合肥有一所学校 搬迁后校舍面积扩大了10倍',\n '为享受教育的乐趣而写作',\n '汇总！英国留学家长们最关心的10大问题，哪个是你的痛点！',\n 'MOOC模式基本失败，根本原因有三个，试错经验值得借鉴',\n '潼关县人民医院开展“健康中国 科普助力—心肺复苏进校园”活动',\n '再见，高考状元？',\n '英国博士留学中介有哪些，如何才能找到靠谱的机构去申请呢？',\n '今年陕西高考人数超31万 高职教育分类考试已录取5万人',\n '江姐唯一孙子，父亲为美终身教授，祭奠爷爷受触动，决定回国工作',\n '手头有5万大学学费，如果小米上市了，我是选择买5万小米股票还是选择去上大学？',\n '爱丁堡申请开放时间',\n '高考前的一些猜题卷、押题卷价值大吗？',\n '事业单位统考面试如何答好演讲类题目？',\n '卡萨丁有必要出全输出装吗？',\n '跪着的老师，教不出站着的学生',\n '浙江出台“1+7”新政：鼓励民办公办教育协调发展',\n '“感恩六年有你相伴”毕业季星空露营',\n '用数据说话：邯郸市联考开阳中学竟然总平均分全市第三！',\n '市文明办检查指导滁州二小文明创建工作',\n '为什么现在上海的儿童很少说上海方言？',\n '高考冲刺，差生如何在高考前30天逆袭？',\n '「最新」2018年滨海新区初中招生学片划分公布',\n '一张白纸能够做些什么？',\n '双语｜有什么事情或故事，对你产生了至深至远的影响',\n '如何看待北京最高楼“中国尊”？',\n '满满的正能量报复行为 你经历过哪些？网友：看着好过瘾',\n 'GPS信号很弱的区域怎么用学术术语表示？',\n '从苏A到苏N哪个城市最风景最好，最值得居住',\n '在职研究生复试比初试还要难吗？',\n '今日就教大家复原魔方的方法',\n '清华大学落地深圳！碟照首度曝光',\n '外国语学院召开生情座谈会，关注转专业学生发展',\n '河南全面实施省属高校和职业院校生均拨款制度',\n '初二物理下册专题复习：压强之横向切割问题',\n '中国大学生体育舞蹈锦标赛在郑大举行',\n '马云说，北大清华的学生应该去中小企业，你怎么看？',\n '中考科目过多易加重学生学习负担',\n '10-12个月baby呀呀班-启蒙教学方案（四）',\n '如何让孩子爱上学习、提高成绩？这是很不错的方法（收藏！）',\n '怎么成为一个勤奋的人？',\n '中国最孤独的小学，只有一个学生，老师却设了14个闹钟',\n '人生不是电影，人生比电影难多了，默默的看完了',\n '高考还没开始！邓州一名学子已被北大看中！',\n '分享五款高质量自学网站，设计、语言、计算机，通通优秀起来',\n '紧急！今天启动，珠海公办中小学报名有变！',\n '离高考只有一个月了，有什么好办法能提高英语和数学成绩？',\n '学什么技术有前途？',\n '“手机不进校”非戒除手机依赖症的良策',\n '萍乡学院',\n '高中要求学生捐款 最少捐1000！',\n '又到高考季，为何有的家长不准儿子报工科呢？',\n '如果人的一生只能用一个字来描述，哪一个字最恰当？',\n '刘依闻先生的“师”与“生”',\n '这样记忆最有效，一个让尖子生大呼不可能的记忆方法',\n '高考志愿填报如何避免“高分低入”？滨州日报特邀专家来滨支招',\n '要想打心底去记住，你需要不断提升自己的熟练度！',\n '小选手自信爆棚 更名“不战而胜队”',\n '葡萄树怎样才能挂果更多？',\n '你被哪个句子惊艳过？',\n '中国留学生在日本占主流地位 平民化留学将受青睐',\n '中考数学多边形与平行四边形专题复习，近几年中考常考题型解析！',\n '留美学生签证“通关宝典”，坐等签证寄到手！',\n '青岛嘉峪关学校：反欺凌课程、枫格立标课',\n '上联：一句问候千里暖，求下联（为母亲节而创）',\n '再读史铁生的文章，能看懂了，我却不再年轻了',\n '烟台一男生真假声混唱《凉凉》，惊艳全场，火爆网络！',\n '面临两难的选择该怎么选择？',\n '日本人素质为什么那么高？',\n '加州反校园欺凌法案又过一关',\n '临近高考，命运是自己决定还是由父母决定',\n '衡水中学、衡水二中、衡水十三中、武邑中学、冀州中学相比，怎么排名次？',\n '2本科生获基金委全额资助赴加拿大短期实习',\n '如何让学生“减压力”？',\n '中小学将增加一门必修课，快看看是什么科目',\n 'US.News——关于法国的大学排名',\n '猜字谜：谢安复职，夕阳西下几时回（打一成语）语文课本上的题！',\n '如何评价施一公教授？',\n '杨振宁说：把中学生送到美国读书非常危险，你怎么评价？',\n '厦门教育新闻，向您道晚安',\n '江西理科2018年605分，能报什么学校？',\n '数字公益讲堂：PPT案例实战1',\n '多所小学齐聚峡山萌族部落参加研学旅行',\n '明厨亮灶确保“舌尖上的安全”',\n '“2018北京书市”正式开幕 40万种实惠好书等待爱书人',\n '学绘画的人能干些什么工作？',\n '其实，中年危机 发生在每个人的身上',\n '谁有好一点的免联考MBA院校，求推荐？',\n '大学生在校期间被禁止玩游戏，你们有过这种惨绝人寰的经历吗',\n '作为老师，中职的学生该如何引导？',\n '古代的状元放到现在是不是大学生？',\n '西安事业单位综合类岗位考试都考些什么内容？进面试的分数大概是多少？',\n '「生物说课」性状与相对性状——试讲教案',\n '为什么美国在20世纪初将放弃的部分庚子赔款投入在中国教育上？',\n '读书是如何改变一个人的命运的？',\n '今日呼和浩特教育午报聚焦进行时',\n '樱花艺术节——我，为轨道代言！',\n '福建电力公司怎么样？了解一下！',\n '100多万学生等得太久了，大学专业类科目选考何时公布？',\n '如何看待民工供养一个大学生用尽所有积蓄，毕业后孩子仅拿3000元一月工资？',\n '物理参照物怎么理解？',\n '音思贝雅马哈音乐中心 “2018双排键合奏音乐会”圆满落幕',\n '郎咸平教授的财经观点你们认同吗？',\n '米兰威尔第「迷人的DJ」电子音乐分类解析',\n '罗永浩到底是一个怎么样的人',\n '风光背后是心酸',\n '自考行政管理专业有什么前途？',\n '一年级就开始让孩子上寄宿学校，对孩子来说到底好不好？',\n '孩子犯了错误，聪明的家长是这样教育的',\n '姨妹子是宜昌某校大三学生，我给她找了个外拍的兼职，两百元一天',\n '将乐28人代表队将赴央视《极速少年》第三季全国总决赛',\n '上联：大学生，研究生，博士生，三生有幸。下联应如何对？',\n '《中华创世神话——电视书场》亮相荧屏受追捧：“神话语文课”这样上，温故更知新',\n '网络安全人才培养如何赢在未来？',\n '求唯美简短的句子？',\n '2018年中级会计职称考试题型、答题要求、评分原则公布！',\n '马云：清华北大毕业生应该去中小企业，中小企业就业血泪谁知道？',\n '武汉市中考试行方案出炉，快看看有哪些变化吧！',\n '小学语文知识大全成语解释',\n '基督徒的家庭教育',\n '十年前天才少年，如今AI黄金一代，现在学编程，成下个时代精英！',\n '大田县举办第二届“孝道故里·十佳小孝星”颁奖晚会',\n '昌乐县精心组织开展“红旗飘飘 引我成长”主题教育系列活动',\n '华南理工大学广州国际校区开工 已引进国内外院士12名',\n '我心依旧是那么坚强',\n '对于一个农村人来说，考上公务员是不是很值得骄傲？',\n '老马亲笔：今夜，请听我的告别信',\n '要敢于下结论（明珠恒照—侯树雄）',\n '最让人感动的句子有哪些？',\n '美国要对留学生下手了，恐取消实习签证先！',\n '成都至眉山拟建市域铁路',\n '考生注意！倒计时一个月，今年高考有这些新变化',\n '家长如何处理好孩子与手游之间的关系？',\n '到底什么是科学？',\n '为什么有些人在网上黑教师，他们孩子的成绩往往较糟糕？',\n '南宁的家长，是如何帮助孩子度过三四年级的过渡期的？',\n '刚刚进入大学的大学生感到迷茫，应该怎么办？',\n '最适合考研党的母亲节礼物，省钱，省时，心意又重',\n 'NSAC的证书是认可的吗？为什么在国家证书查询中查询不到？',\n '浙博“行走的博物馆课堂”开课',\n '高考最后29天 把握时机背水一战！',\n '「新媒要闻」第27个国际助产士节来临之际，她们这样庆祝',\n '重磅消息！合肥四部门正式对校外培训机构“出重拳”了！',\n '行动起来，减轻身边的灾害风险：五里铺小学开展全国第十个防灾减灾安全教育课',\n '成都四七九PK 大摇号学校中考重点率最好的是……',\n '一位海归精英用自己的亲身经历告诫青年远离毒品',\n '“鬼才”数学老师：报什么奥数班，背熟这18张图，小学6年都不愁',\n '把戒尺还给老师，你赞成还是反对？',\n '5月12日，“十万元专项大奖”征集建议活动颁奖仪式圆满落幕',\n '英语到底该怎么学？',\n '「爱考宝典」2018贸大保险专硕考研经验分享',\n '华南师范大学好不好',\n '2018年考研失败的你想说什么？',\n '努力打造成城市音乐新名片',\n '清华大学、南京大学自主招生初审名单公布，宿迁这些孩子上榜！',\n '刚毕业的大专生，去流水线，当学徒，还是去做销售？',\n '今年九月我就要退伍了，手中的水枪也就交给你们了',\n '呼和浩特市2018年征兵工作全面展开',\n '国家政策的出台：校外托管机构迎来新的机遇和挑战',\n '一年级数学分类与整理知识点掌握技巧简单讲解，助孩子更快精通！',\n '最让你怀念的高中门口的吃的是什么？',\n '新田：“三通两平台”应用培训 播下提高信息技术应用水平之种',\n '如何在一个领域内成为顶尖人才？',\n '2018.5.1/5.4陕西曙光救援队两上太白山执行救援搜寻行动任务',\n '上课时学生手机响个不停，老师一怒之下把手机摔了，家长拿发票让老师赔，大家怎么看待这种事？',\n '美国留学——办理签证有哪些需要注意',\n '微元法是什么？',\n '「5月」山东各地地区国企招聘1000+人，报名时间紧急，勿错过！',\n '人民日报荐读：一封家书惊动教育部',\n '「毕业季来临」高中毕业的你必须抓紧时间申请名校！',\n '错过数学敏感期,再难培养数学思维!这些游戏不能错过(附下载链接)',\n '娄底城区2018年中职招生工作协调会在市第一职业中学召开',\n '云南砚山：让全县人民共享改革发展成果',\n '济宁恒大时代广场预计年底竣工，你关心的市政建设都在这里',\n '秦都区职业教育中心2018年职业教育活动周暨技能节启动仪式举行',\n '想找高薪工作，学历不够？逸仙学历提升，错过1次，后悔终生！',\n '如何读懂扑克脸：解码微表情的艺术',\n '为什么有的大学在一本招生，又在二本招生，那它是一本大学吗？',\n '大喜事！2018深圳入户新规出炉 也许下一个深圳人就是你！',\n '985英雄志 用数据说话 为你深入解析要不要报考',\n '山西博物院“5·18国际博物馆日”活动出炉 等你来体验',\n '如何看待985、211，大量招收非全日制研究生？',\n '孩子别怕！阅读理解题，我有“阅读四步法”！值得收藏！',\n '景观设计｜是不是收藏级干货看了就知道！',\n '揭秘香港女艺人的清纯学生照！糖妹长得像黄磊？最清纯的竟是……',\n '国外海报创意ps平面设计后期合成高级特效教程视频120集教学课程',\n '瑞泉中学教师胡苇被评为第一届“临渭好青年”',\n '招1000人，待遇好，速看！',\n '上课时学生手机响个不停，老师一怒之下把手机摔了，家长拿发票让老师赔，大家怎么看待这种事？',\n '“分层教育”的表与里',\n '阵地变了 不变的是初心',\n '这类证，大学生千万别考！后悔都来不及',\n '江苏五年制专转本参加培训辅导是否就代表能够录取，你怎么看？',\n '小升初丨面谈扎堆！华伦、日升、黎明、文博最新面试题真理~',\n '2018清华大学在河南省的招生是多少？',\n '中国风、动物园……这个小学运动会开幕式被刷屏',\n '香港加入人才争夺战 科技人才看过来',\n '如何根据自己的高考分数合理选择一本和二本学校？',\n '2018年云南文山州特岗教师招聘公告2239人',\n '今天，200名龙游学子走进这里开启全新体验~',\n '米乐英语、光明网助学北冶站 北美外教进山村',\n '考研要不要进行二战？',\n '100多年前的一本什么书？挽救了这个古老国家的命运！',\n '古城西安，215终点站西京大学！',\n '比跳不好舞更可怕的是：舞蹈室里出娇子',\n '2018.5.9经济学人官译',\n '中华绝文！用字四千无一相重！真的服了！',\n '十鸟在林，不如一鸟在手',\n '山东事业单位-教师招聘又来一波！45周岁以下，5月14日报名！',\n '个子又长了！2017年江苏省学生体质健康监测结果新鲜出炉',\n '人和动物的根本区别是什么？',\n '中国着力培养高素质“大国工匠”',\n '新科普｜中国脑计划即将启动，面对大脑这个“黑箱”，这开箱七件事带着一丝光亮',\n '2017广东省直汕头等中级会计证书领取时间汇总',\n '上课时学生手机响个不停，老师一怒之下把手机摔了，家长拿发票让老师赔，大家怎么看待这种事？',\n '沈51中与“最强外援”携手一年，合作办学成果如何？',\n '五谷杂粮的包装设计，传统性、趣味性、创造性都有哪些？',\n '一组感人的照片，农村留守儿童的真实写照',\n '大学生业余兼职准备创业如何起步？',\n '泰安师范附属学校召开“架起心灵沟通的桥梁”—心理健康教育主题中队会',\n '五华区先锋小学将迁新址 环境配套大升级',\n '后来的我们，真的能？',\n '请教写作学习路线图？',\n '大河南，厉害了！',\n '怎样才能坚持下去，达到目的呢？',\n '“大国良师”聂振弢先生国学讲座在南阳市第二十五小学举行',\n '李开复：如果没有赴美留学，我不会那么成功',\n '农村的孩子们不再担心读书难了，他们脸上的笑容足以说明一切！',\n '个人创业申请创业担保贷款最高达10万元',\n '新西兰华人“哈佛男孩”：不积跬步 无以至千里',\n '最后的冲锋，英雄联盟高校联赛全国总决赛预选赛号角响起',\n '关于摇号你不得不知的“秘密”',\n '教育部发文提醒：大学毕业生，这些合同千万别签！',\n '自考金融，怎样选择学习课程和考试科目？',\n '《极限挑战》这一段太燃了，越看越戳心……',\n '陕西省的高校都有哪些？',\n '知识的奥运会，看中国哪些顶级中学摘金夺银！',\n '首届十佳青年评选｜苏燕妮：向信息化要审判力',\n '汇集世界著名诗人学者 湖南师范大学成立英美诗歌研究中心',\n '真情感动类作文指导：作文题目、审题导航、精彩构思、范文及点评',\n '在衡水除了衡水中学外，还有哪些可以选择的高中？',\n '一定要看！成考、自考等非全日制学历是否能报考教师资格证',\n '上课时学生手机响个不停，老师一怒之下把手机摔了，家长拿发票让老师赔，大家怎么看待这种事？',\n '海信小海豚2手机，开启全新的学习模式',\n '资深语文老师：我班阅读理解人人高分，全因掌握这3个技巧！',\n '牛！这个12岁孩子获得青少年科技创新市长奖',\n '如何成为一个撩妹高手？',\n '北京电影学院摄影学院举行2018届研究生毕业展',\n '职位招聘：内容作者',\n '官之本位何来？',\n '有哪些微信公众号值得关注？',\n '应当如何学习英语？',\n '身高一刀切，“儿童票”如何回归专属福利？',\n '施一公说“西湖大学明年成立，5年后科研比肩清华北大”，大家认为有可能吗？',\n '马云说阿里不愿招清华北大毕业生，这次你信了吗？',\n '美国留学，选校如何选？',\n '2019年US News美国研究生Executive MBA专业排名',\n '南京 长三角的特大城市',\n '2019中财管理科学与工程专业考研招生目录及参考书',\n '讲好中国故事，服务“一带一路” 余克泉在巴基斯坦作学术讲座',\n '上海交通大学湖南校友会成立',\n '考生注意！倒计时一个月，今年高考有这些新变化！',\n '1260例体育课课练，让每堂体育课的热身训练高效利用起来',\n '平安好医生AI问诊服务体验感暂时令人失望，依然值得尊敬',\n '雄蜂需要培育吗？没有雄蜂的话能交尾成功吗？',\n '一家儿童读物店如何引流？',\n '《极限挑战》讽刺但就是现实，落后的我们只能比别人努力奔跑！',\n '山清水秀的江西，自古的鱼米之乡，现如今经济却远不如湖南湖北',\n '就业被拒，创业被拒，除了带孩子，全职妈妈还能做什么？',\n '微信聊天的10条潜规则，不懂不是社会人',\n ...]"
     },
     "execution_count": 60,
     "metadata": {},
     "output_type": "execute_result"
    }
   ],
   "source": [
    "train_by_topic = by_topic(train_topics, train_sentences)\n",
    "test_by_topic = by_topic(test_topics, test_sentences)\n",
    "train_by_topic['108']"
   ],
   "metadata": {
    "collapsed": false,
    "pycharm": {
     "name": "#%%\n"
    }
   }
  },
  {
   "cell_type": "code",
   "execution_count": 52,
   "outputs": [],
   "source": [
    "def X_Y_split(sentences):\n",
    "    Y = []\n",
    "    for sentence in sentences:\n",
    "        Y.append([])\n",
    "        string = ' '.join(jieba.cut(sentence, HMM=False))\n",
    "        words = string.split()\n",
    "        for word in words:\n",
    "            if word.isalpha():\n",
    "                Y[-1].append(word)\n",
    "    X = []\n",
    "    for sentence in Y:\n",
    "        X.append([])\n",
    "        for word in sentence:\n",
    "            ls = lazy_pinyin(word)\n",
    "            X[-1].append(''.join(ls))\n",
    "    return X, Y"
   ],
   "metadata": {
    "collapsed": false,
    "pycharm": {
     "name": "#%%\n"
    }
   }
  },
  {
   "cell_type": "code",
   "execution_count": 53,
   "outputs": [],
   "source": [
    "def encode_sequences(tokenizer, length, lines):\n",
    "    seq = tokenizer.texts_to_sequences(lines)\n",
    "    seq = pad_sequences(seq, maxlen=length, padding='post')\n",
    "    return seq"
   ],
   "metadata": {
    "collapsed": false,
    "pycharm": {
     "name": "#%%\n"
    }
   }
  },
  {
   "cell_type": "code",
   "execution_count": 54,
   "outputs": [],
   "source": [
    "X_length = 68 # max number of words in a sentence.\n",
    "Y_length = 68\n",
    "\n",
    "def X_Y_by_topic(dataset_by_topic):\n",
    "    X_by_topic = {}\n",
    "    Y_by_topic = {}\n",
    "    for i in dataset_by_topic:\n",
    "        X, Y = X_Y_split(dataset_by_topic[i])\n",
    "        X_seq = encode_sequences(pinyin_tokenizer, X_length, X)\n",
    "        Y_seq = encode_sequences(hanzi_tokenizer, Y_length, Y)\n",
    "        X_by_topic[i] = X_seq\n",
    "        Y_by_topic[i] = Y_seq\n",
    "    return X_by_topic, Y_by_topic"
   ],
   "metadata": {
    "collapsed": false,
    "pycharm": {
     "name": "#%%\n"
    }
   }
  },
  {
   "cell_type": "code",
   "execution_count": 55,
   "outputs": [],
   "source": [
    "TrainX_by_topic, TrainY_by_topic = X_Y_by_topic(train_by_topic)\n",
    "TestX_by_topic, TestY_by_topic = X_Y_by_topic(test_by_topic)"
   ],
   "metadata": {
    "collapsed": false,
    "pycharm": {
     "name": "#%%\n"
    }
   }
  },
  {
   "cell_type": "code",
   "execution_count": 61,
   "outputs": [
    {
     "data": {
      "text/plain": "array([[ 5600,  5601,   325, ...,     0,     0,     0],\n       [ 1791,    69,   459, ...,     0,     0,     0],\n       [ 5601,   226,   257, ...,     0,     0,     0],\n       ...,\n       [  156,    16,   452, ...,     0,     0,     0],\n       [30819, 38083,  4344, ...,     0,     0,     0],\n       [38098, 38099,   184, ...,     0,     0,     0]], dtype=int32)"
     },
     "execution_count": 61,
     "metadata": {},
     "output_type": "execute_result"
    }
   ],
   "source": [
    "TrainX_by_topic['108']"
   ],
   "metadata": {
    "collapsed": false,
    "pycharm": {
     "name": "#%%\n"
    }
   }
  },
  {
   "cell_type": "markdown",
   "source": [
    "# RNN Models by Topic"
   ],
   "metadata": {
    "collapsed": false,
    "pycharm": {
     "name": "#%% md\n"
    }
   }
  },
  {
   "cell_type": "code",
   "execution_count": 57,
   "outputs": [],
   "source": [
    "def define_model(in_vocab, out_vocab, in_timesteps, out_timesteps, neurons): # num of neurons is chosen\n",
    "    model = Sequential()\n",
    "    model.add(Embedding(in_vocab, neurons, input_length=in_timesteps, mask_zero=True))\n",
    "    model.add(LSTM(neurons))\n",
    "    model.add(RepeatVector(out_timesteps))\n",
    "    model.add(LSTM(neurons, return_sequences=True))\n",
    "    model.add(Dense(out_vocab, activation='Softmax'))\n",
    "    return model"
   ],
   "metadata": {
    "collapsed": false,
    "pycharm": {
     "name": "#%%\n"
    }
   }
  },
  {
   "cell_type": "code",
   "execution_count": 58,
   "outputs": [],
   "source": [
    "models = {}\n",
    "for i in TrainX_by_topic:\n",
    "    model = define_model(pinyin_vocab_size, hanzi_vocab_size, X_length, Y_length, 100)\n",
    "    rms = optimizers.RMSprop(lr=0.001)\n",
    "    model.compile(optimizer=rms, loss='sparse_categorical_crossentropy')\n",
    "    models[i] = model"
   ],
   "metadata": {
    "collapsed": false,
    "pycharm": {
     "name": "#%%\n"
    }
   }
  },
  {
   "cell_type": "markdown",
   "source": [
    "# Train Models"
   ],
   "metadata": {
    "collapsed": false,
    "pycharm": {
     "name": "#%% md\n"
    }
   }
  },
  {
   "cell_type": "markdown",
   "source": [
    "Here is a short version for only one topic (108), limited by the computation capability of my computer."
   ],
   "metadata": {
    "collapsed": false,
    "pycharm": {
     "name": "#%% md\n"
    }
   }
  },
  {
   "cell_type": "code",
   "execution_count": 62,
   "outputs": [
    {
     "name": "stdout",
     "output_type": "stream",
     "text": [
      "Epoch 1/5\n",
      "86/86 [==============================] - 99s 1s/step - loss: 3.5654 - val_loss: 1.5209\n",
      "Epoch 2/5\n",
      "86/86 [==============================] - 89s 1s/step - loss: 1.3947 - val_loss: 1.4433\n",
      "Epoch 3/5\n",
      "86/86 [==============================] - 88s 1s/step - loss: 1.2947 - val_loss: 1.4169\n",
      "Epoch 4/5\n",
      "86/86 [==============================] - 89s 1s/step - loss: 1.2541 - val_loss: 1.3333\n",
      "Epoch 5/5\n",
      "86/86 [==============================] - 91s 1s/step - loss: 1.2294 - val_loss: 1.3287\n"
     ]
    }
   ],
   "source": [
    "for i in TrainX_by_topic:\n",
    "    history = models[i].fit(TrainX_by_topic[i], TrainY_by_topic[i], epochs=5, validation_split=0.2)\n",
    "    break"
   ],
   "metadata": {
    "collapsed": false,
    "pycharm": {
     "name": "#%%\n"
    }
   }
  },
  {
   "cell_type": "markdown",
   "source": [
    "# Test Models"
   ],
   "metadata": {
    "collapsed": false,
    "pycharm": {
     "name": "#%% md\n"
    }
   }
  },
  {
   "cell_type": "code",
   "execution_count": 69,
   "outputs": [
    {
     "name": "stdout",
     "output_type": "stream",
     "text": [
      "21/21 [==============================] - 17s 824ms/step\n"
     ]
    },
    {
     "data": {
      "text/plain": "(646, 68, 51297)"
     },
     "execution_count": 69,
     "metadata": {},
     "output_type": "execute_result"
    }
   ],
   "source": [
    "for i in TrainX_by_topic:\n",
    "    preds = models[i].predict(TestX_by_topic[i])\n",
    "    break\n",
    "preds.shape # 646 sample sentences, at most 68 words in a sentence, 51297 hanzi word choices"
   ],
   "metadata": {
    "collapsed": false,
    "pycharm": {
     "name": "#%%\n"
    }
   }
  },
  {
   "cell_type": "code",
   "execution_count": 66,
   "outputs": [],
   "source": [
    "def get_word(n, tokenizer):\n",
    "    for word, index in tokenizer.word_index.items():\n",
    "        if index == n:\n",
    "            return word\n",
    "    return None"
   ],
   "metadata": {
    "collapsed": false,
    "pycharm": {
     "name": "#%%\n"
    }
   }
  },
  {
   "cell_type": "code",
   "execution_count": 73,
   "outputs": [
    {
     "data": {
      "text/plain": "array([[  0,   0,   0, ...,   0,   0,   0],\n       [333, 333, 333, ...,   0,   0,   0],\n       [333, 333, 333, ...,   0,   0,   0],\n       ...,\n       [333, 333, 333, ...,   0,   0,   0],\n       [398, 333, 333, ...,   0,   0,   0],\n       [333, 333, 333, ...,   0,   0,   0]])"
     },
     "execution_count": 73,
     "metadata": {},
     "output_type": "execute_result"
    }
   ],
   "source": [
    "preds_classes = np.argmax(preds, axis=2)\n",
    "preds_classes"
   ],
   "metadata": {
    "collapsed": false,
    "pycharm": {
     "name": "#%%\n"
    }
   }
  },
  {
   "cell_type": "code",
   "execution_count": 72,
   "outputs": [],
   "source": [
    "# restore pinyin tokens into hanzi words\n",
    "preds_text = []\n",
    "for i in preds_classes:\n",
    "    temp = []\n",
    "    for j in range(len(i)):\n",
    "        t = get_word(i[j], hanzi_tokenizer)\n",
    "        if j > 0:\n",
    "            if (t == get_word(i[j-1], hanzi_tokenizer)) or (t == None):\n",
    "                temp.append('')\n",
    "            else:\n",
    "                temp.append(t)\n",
    "        else:\n",
    "            if (t == None):\n",
    "                temp.append('')\n",
    "            else:\n",
    "                temp.append(t)\n",
    "        preds_text.append(''.join(temp))"
   ],
   "metadata": {
    "collapsed": false,
    "pycharm": {
     "name": "#%%\n"
    }
   }
  },
  {
   "cell_type": "code",
   "execution_count": 74,
   "outputs": [
    {
     "data": {
      "text/plain": "['',\n ' ',\n '  ',\n '   ',\n '    ',\n '     ',\n '      ',\n '       ',\n '        ',\n '         ',\n '          ',\n '           ',\n '            ',\n '             ',\n '              ',\n '               ',\n '                ',\n '                 ',\n '                  ',\n '                   ',\n '                    ',\n '                     ',\n '                      ',\n '                       ',\n '                        ',\n '                         ',\n '                          ',\n '                           ',\n '                            ',\n '                             ',\n '                              ',\n '                               ',\n '                                ',\n '                                 ',\n '                                  ',\n '                                   ',\n '                                    ',\n '                                     ',\n '                                      ',\n '                                       ',\n '                                        ',\n '                                         ',\n '                                          ',\n '                                           ',\n '                                            ',\n '                                             ',\n '                                              ',\n '                                               ',\n '                                                ',\n '                                                 ',\n '                                                  ',\n '                                                   ',\n '                                                    ',\n '                                                     ',\n '                                                      ',\n '                                                       ',\n '                                                        ',\n '                                                         ',\n '                                                          ',\n '                                                           ',\n '                                                            ',\n '                                                             ',\n '                                                              ',\n '                                                               ',\n '                                                                ',\n '                                                                 ',\n '                                                                  ',\n '                                                                   ',\n '的',\n '的 ',\n '的  ',\n '的   ',\n '的    ',\n '的     ',\n '的      ',\n '的       ',\n '的        ',\n '的         ',\n '的          ',\n '的           ',\n '的            ',\n '的             ',\n '的              ',\n '的               ',\n '的                ',\n '的                 ',\n '的                  ',\n '的                   ',\n '的                    ',\n '的                     ',\n '的                      ',\n '的                       ',\n '的                        ',\n '的                         ',\n '的                          ',\n '的                           ',\n '的                            ',\n '的                             ',\n '的                              ',\n '的                               ',\n '的                                ',\n '的                                 ',\n '的                                  ',\n '的                                   ',\n '的                                    ',\n '的                                     ',\n '的                                      ',\n '的                                       ',\n '的                                        ',\n '的                                         ',\n '的                                          ',\n '的                                           ',\n '的                                            ',\n '的                                             ',\n '的                                              ',\n '的                                               ',\n '的                                                ',\n '的                                                 ',\n '的                                                  ',\n '的                                                   ',\n '的                                                    ',\n '的                                                     ',\n '的                                                      ',\n '的                                                       ',\n '的                                                        ',\n '的                                                         ',\n '的                                                          ',\n '的                                                           ',\n '的                                                            ',\n '的                                                             ',\n '的                                                              ',\n '的                                                               ',\n '的                                                                ',\n '的                                                                 ',\n '的                                                                  ',\n '的                                                                   ',\n '的',\n '的 ',\n '的  ',\n '的   ',\n '的    ',\n '的     ',\n '的      ',\n '的       ',\n '的        ',\n '的         ',\n '的          ',\n '的           ',\n '的            ',\n '的             ',\n '的              ',\n '的               ',\n '的                ',\n '的                 ',\n '的                  ',\n '的                   ',\n '的                    ',\n '的                     ',\n '的                      ',\n '的                       ',\n '的                        ',\n '的                         ',\n '的                          ',\n '的                           ',\n '的                            ',\n '的                             ',\n '的                              ',\n '的                               ',\n '的                                ',\n '的                                 ',\n '的                                  ',\n '的                                   ',\n '的                                    ',\n '的                                     ',\n '的                                      ',\n '的                                       ',\n '的                                        ',\n '的                                         ',\n '的                                          ',\n '的                                           ',\n '的                                            ',\n '的                                             ',\n '的                                              ',\n '的                                               ',\n '的                                                ',\n '的                                                 ',\n '的                                                  ',\n '的                                                   ',\n '的                                                    ',\n '的                                                     ',\n '的                                                      ',\n '的                                                       ',\n '的                                                        ',\n '的                                                         ',\n '的                                                          ',\n '的                                                           ',\n '的                                                            ',\n '的                                                             ',\n '的                                                              ',\n '的                                                               ',\n '的                                                                ',\n '的                                                                 ',\n '的                                                                  ',\n '的                                                                   ',\n '的',\n '的 ',\n '的  ',\n '的   ',\n '的    ',\n '的     ',\n '的      ',\n '的       ',\n '的        ',\n '的         ',\n '的          ',\n '的           ',\n '的            ',\n '的             ',\n '的              ',\n '的               ',\n '的                ',\n '的                 ',\n '的                  ',\n '的                   ',\n '的                    ',\n '的                     ',\n '的                      ',\n '的                       ',\n '的                        ',\n '的                         ',\n '的                          ',\n '的                           ',\n '的                            ',\n '的                             ',\n '的                              ',\n '的                               ',\n '的                                ',\n '的                                 ',\n '的                                  ',\n '的                                   ',\n '的                                    ',\n '的                                     ',\n '的                                      ',\n '的                                       ',\n '的                                        ',\n '的                                         ',\n '的                                          ',\n '的                                           ',\n '的                                            ',\n '的                                             ',\n '的                                              ',\n '的                                               ',\n '的                                                ',\n '的                                                 ',\n '的                                                  ',\n '的                                                   ',\n '的                                                    ',\n '的                                                     ',\n '的                                                      ',\n '的                                                       ',\n '的                                                        ',\n '的                                                         ',\n '的                                                          ',\n '的                                                           ',\n '的                                                            ',\n '的                                                             ',\n '的                                                              ',\n '的                                                               ',\n '的                                                                ',\n '的                                                                 ',\n '的                                                                  ',\n '的                                                                   ',\n '如何',\n '如何 的',\n '如何 的 ',\n '如何 的  ',\n '如何 的   ',\n '如何 的    ',\n '如何 的     ',\n '如何 的      ',\n '如何 的       ',\n '如何 的        ',\n '如何 的         ',\n '如何 的          ',\n '如何 的           ',\n '如何 的            ',\n '如何 的             ',\n '如何 的              ',\n '如何 的               ',\n '如何 的                ',\n '如何 的                 ',\n '如何 的                  ',\n '如何 的                   ',\n '如何 的                    ',\n '如何 的                     ',\n '如何 的                      ',\n '如何 的                       ',\n '如何 的                        ',\n '如何 的                         ',\n '如何 的                          ',\n '如何 的                           ',\n '如何 的                            ',\n '如何 的                             ',\n '如何 的                              ',\n '如何 的                               ',\n '如何 的                                ',\n '如何 的                                 ',\n '如何 的                                  ',\n '如何 的                                   ',\n '如何 的                                    ',\n '如何 的                                     ',\n '如何 的                                      ',\n '如何 的                                       ',\n '如何 的                                        ',\n '如何 的                                         ',\n '如何 的                                          ',\n '如何 的                                           ',\n '如何 的                                            ',\n '如何 的                                             ',\n '如何 的                                              ',\n '如何 的                                               ',\n '如何 的                                                ',\n '如何 的                                                 ',\n '如何 的                                                  ',\n '如何 的                                                   ',\n '如何 的                                                    ',\n '如何 的                                                     ',\n '如何 的                                                      ',\n '如何 的                                                       ',\n '如何 的                                                        ',\n '如何 的                                                         ',\n '如何 的                                                          ',\n '如何 的                                                           ',\n '如何 的                                                            ',\n '如何 的                                                             ',\n '如何 的                                                              ',\n '如何 的                                                               ',\n '如何 的                                                                ',\n '如何 的                                                                 ',\n '如何 的                                                                  ',\n '的',\n '的 ',\n '的  ',\n '的   ',\n '的    ',\n '的     ',\n '的      ',\n '的       ',\n '的        ',\n '的         ',\n '的          ',\n '的           ',\n '的            ',\n '的             ',\n '的              ',\n '的               ',\n '的                ',\n '的                 ',\n '的                  ',\n '的                   ',\n '的                    ',\n '的                     ',\n '的                      ',\n '的                       ',\n '的                        ',\n '的                         ',\n '的                          ',\n '的                           ',\n '的                            ',\n '的                             ',\n '的                              ',\n '的                               ',\n '的                                ',\n '的                                 ',\n '的                                  ',\n '的                                   ',\n '的                                    ',\n '的                                     ',\n '的                                      ',\n '的                                       ',\n '的                                        ',\n '的                                         ',\n '的                                          ',\n '的                                           ',\n '的                                            ',\n '的                                             ',\n '的                                              ',\n '的                                               ',\n '的                                                ',\n '的                                                 ',\n '的                                                  ',\n '的                                                   ',\n '的                                                    ',\n '的                                                     ',\n '的                                                      ',\n '的                                                       ',\n '的                                                        ',\n '的                                                         ',\n '的                                                          ',\n '的                                                           ',\n '的                                                            ',\n '的                                                             ',\n '的                                                              ',\n '的                                                               ',\n '的                                                                ',\n '的                                                                 ',\n '的                                                                  ',\n '的                                                                   ',\n '的',\n '的 ',\n '的  ',\n '的   ',\n '的    ',\n '的     ',\n '的      ',\n '的       ',\n '的        ',\n '的         ',\n '的          ',\n '的           ',\n '的            ',\n '的             ',\n '的              ',\n '的               ',\n '的                ',\n '的                 ',\n '的                  ',\n '的                   ',\n '的                    ',\n '的                     ',\n '的                      ',\n '的                       ',\n '的                        ',\n '的                         ',\n '的                          ',\n '的                           ',\n '的                            ',\n '的                             ',\n '的                              ',\n '的                               ',\n '的                                ',\n '的                                 ',\n '的                                  ',\n '的                                   ',\n '的                                    ',\n '的                                     ',\n '的                                      ',\n '的                                       ',\n '的                                        ',\n '的                                         ',\n '的                                          ',\n '的                                           ',\n '的                                            ',\n '的                                             ',\n '的                                              ',\n '的                                               ',\n '的                                                ',\n '的                                                 ',\n '的                                                  ',\n '的                                                   ',\n '的                                                    ',\n '的                                                     ',\n '的                                                      ',\n '的                                                       ',\n '的                                                        ',\n '的                                                         ',\n '的                                                          ',\n '的                                                           ',\n '的                                                            ',\n '的                                                             ',\n '的                                                              ',\n '的                                                               ',\n '的                                                                ',\n '的                                                                 ',\n '的                                                                  ',\n '的                                                                   ',\n '的',\n '的 ',\n '的  ',\n '的   ',\n '的    ',\n '的     ',\n '的      ',\n '的       ',\n '的        ',\n '的         ',\n '的          ',\n '的           ',\n '的            ',\n '的             ',\n '的              ',\n '的               ',\n '的                ',\n '的                 ',\n '的                  ',\n '的                   ',\n '的                    ',\n '的                     ',\n '的                      ',\n '的                       ',\n '的                        ',\n '的                         ',\n '的                          ',\n '的                           ',\n '的                            ',\n '的                             ',\n '的                              ',\n '的                               ',\n '的                                ',\n '的                                 ',\n '的                                  ',\n '的                                   ',\n '的                                    ',\n '的                                     ',\n '的                                      ',\n '的                                       ',\n '的                                        ',\n '的                                         ',\n '的                                          ',\n '的                                           ',\n '的                                            ',\n '的                                             ',\n '的                                              ',\n '的                                               ',\n '的                                                ',\n '的                                                 ',\n '的                                                  ',\n '的                                                   ',\n '的                                                    ',\n '的                                                     ',\n '的                                                      ',\n '的                                                       ',\n '的                                                        ',\n '的                                                         ',\n '的                                                          ',\n '的                                                           ',\n '的                                                            ',\n '的                                                             ',\n '的                                                              ',\n '的                                                               ',\n '的                                                                ',\n '的                                                                 ',\n '的                                                                  ',\n '的                                                                   ',\n '的',\n '的 ',\n '的  ',\n '的   ',\n '的    ',\n '的     ',\n '的      ',\n '的       ',\n '的        ',\n '的         ',\n '的          ',\n '的           ',\n '的            ',\n '的             ',\n '的              ',\n '的               ',\n '的                ',\n '的                 ',\n '的                  ',\n '的                   ',\n '的                    ',\n '的                     ',\n '的                      ',\n '的                       ',\n '的                        ',\n '的                         ',\n '的                          ',\n '的                           ',\n '的                            ',\n '的                             ',\n '的                              ',\n '的                               ',\n '的                                ',\n '的                                 ',\n '的                                  ',\n '的                                   ',\n '的                                    ',\n '的                                     ',\n '的                                      ',\n '的                                       ',\n '的                                        ',\n '的                                         ',\n '的                                          ',\n '的                                           ',\n '的                                            ',\n '的                                             ',\n '的                                              ',\n '的                                               ',\n '的                                                ',\n '的                                                 ',\n '的                                                  ',\n '的                                                   ',\n '的                                                    ',\n '的                                                     ',\n '的                                                      ',\n '的                                                       ',\n '的                                                        ',\n '的                                                         ',\n '的                                                          ',\n '的                                                           ',\n '的                                                            ',\n '的                                                             ',\n '的                                                              ',\n '的                                                               ',\n '的                                                                ',\n '的                                                                 ',\n '的                                                                  ',\n '的                                                                   ',\n '的',\n '的 ',\n '的  ',\n '的   ',\n '的    ',\n '的     ',\n '的      ',\n '的       ',\n '的        ',\n '的         ',\n '的          ',\n '的           ',\n '的            ',\n '的             ',\n '的              ',\n '的               ',\n '的                ',\n '的                 ',\n '的                  ',\n '的                   ',\n '的                    ',\n '的                     ',\n '的                      ',\n '的                       ',\n '的                        ',\n '的                         ',\n '的                          ',\n '的                           ',\n '的                            ',\n '的                             ',\n '的                              ',\n '的                               ',\n '的                                ',\n '的                                 ',\n '的                                  ',\n '的                                   ',\n '的                                    ',\n '的                                     ',\n '的                                      ',\n '的                                       ',\n '的                                        ',\n '的                                         ',\n '的                                          ',\n '的                                           ',\n '的                                            ',\n '的                                             ',\n '的                                              ',\n '的                                               ',\n '的                                                ',\n '的                                                 ',\n '的                                                  ',\n '的                                                   ',\n '的                                                    ',\n '的                                                     ',\n '的                                                      ',\n '的                                                       ',\n '的                                                        ',\n '的                                                         ',\n '的                                                          ',\n '的                                                           ',\n '的                                                            ',\n '的                                                             ',\n '的                                                              ',\n '的                                                               ',\n '的                                                                ',\n '的                                                                 ',\n '的                                                                  ',\n '的                                                                   ',\n '的',\n '的 ',\n '的  ',\n '的   ',\n '的    ',\n '的     ',\n '的      ',\n '的       ',\n '的        ',\n '的         ',\n '的          ',\n '的           ',\n '的            ',\n '的             ',\n '的              ',\n '的               ',\n '的                ',\n '的                 ',\n '的                  ',\n '的                   ',\n '的                    ',\n '的                     ',\n '的                      ',\n '的                       ',\n '的                        ',\n '的                         ',\n '的                          ',\n '的                           ',\n '的                            ',\n '的                             ',\n '的                              ',\n '的                               ',\n '的                                ',\n '的                                 ',\n '的                                  ',\n '的                                   ',\n '的                                    ',\n '的                                     ',\n '的                                      ',\n '的                                       ',\n '的                                        ',\n '的                                         ',\n '的                                          ',\n '的                                           ',\n '的                                            ',\n '的                                             ',\n '的                                              ',\n '的                                               ',\n '的                                                ',\n '的                                                 ',\n '的                                                  ',\n '的                                                   ',\n '的                                                    ',\n '的                                                     ',\n '的                                                      ',\n '的                                                       ',\n '的                                                        ',\n '的                                                         ',\n '的                                                          ',\n '的                                                           ',\n '的                                                            ',\n '的                                                             ',\n '的                                                              ',\n '的                                                               ',\n '的                                                                ',\n '的                                                                 ',\n '的                                                                  ',\n '的                                                                   ',\n '的',\n '的 ',\n '的  ',\n '的   ',\n '的    ',\n '的     ',\n '的      ',\n '的       ',\n '的        ',\n '的         ',\n '的          ',\n '的           ',\n '的            ',\n '的             ',\n '的              ',\n '的               ',\n '的                ',\n '的                 ',\n '的                  ',\n '的                   ',\n '的                    ',\n '的                     ',\n '的                      ',\n '的                       ',\n '的                        ',\n '的                         ',\n '的                          ',\n '的                           ',\n '的                            ',\n '的                             ',\n '的                              ',\n '的                               ',\n '的                                ',\n '的                                 ',\n '的                                  ',\n '的                                   ',\n '的                                    ',\n '的                                     ',\n '的                                      ',\n '的                                       ',\n '的                                        ',\n '的                                         ',\n '的                                          ',\n '的                                           ',\n '的                                            ',\n '的                                             ',\n '的                                              ',\n '的                                               ',\n '的                                                ',\n '的                                                 ',\n '的                                                  ',\n '的                                                   ',\n '的                                                    ',\n '的                                                     ',\n '的                                                      ',\n '的                                                       ',\n '的                                                        ',\n '的                                                         ',\n '的                                                          ',\n '的                                                           ',\n '的                                                            ',\n '的                                                             ',\n '的                                                              ',\n '的                                                               ',\n '的                                                                ',\n '的                                                                 ',\n '的                                                                  ',\n '的                                                                   ',\n '的',\n '的 ',\n '的  ',\n '的   ',\n '的    ',\n '的     ',\n '的      ',\n '的       ',\n '的        ',\n '的         ',\n '的          ',\n '的           ',\n '的            ',\n '的             ',\n '的              ',\n '的               ',\n '的                ',\n '的                 ',\n '的                  ',\n '的                   ',\n '的                    ',\n '的                     ',\n '的                      ',\n '的                       ',\n '的                        ',\n '的                         ',\n '的                          ',\n '的                           ',\n '的                            ',\n '的                             ',\n '的                              ',\n '的                               ',\n '的                                ',\n '的                                 ',\n '的                                  ',\n '的                                   ',\n '的                                    ',\n '的                                     ',\n '的                                      ',\n '的                                       ',\n '的                                        ',\n '的                                         ',\n '的                                          ',\n '的                                           ',\n '的                                            ',\n '的                                             ',\n '的                                              ',\n '的                                               ',\n '的                                                ',\n '的                                                 ',\n '的                                                  ',\n '的                                                   ',\n '的                                                    ',\n '的                                                     ',\n '的                                                      ',\n '的                                                       ',\n '的                                                        ',\n '的                                                         ',\n '的                                                          ',\n '的                                                           ',\n '的                                                            ',\n '的                                                             ',\n '的                                                              ',\n '的                                                               ',\n '的                                                                ',\n '的                                                                 ',\n '的                                                                  ',\n '的                                                                   ',\n '如何',\n '如何 的',\n '如何 的 ',\n '如何 的  ',\n '如何 的   ',\n '如何 的    ',\n '如何 的     ',\n '如何 的      ',\n '如何 的       ',\n '如何 的        ',\n '如何 的         ',\n '如何 的          ',\n '如何 的           ',\n '如何 的            ',\n '如何 的             ',\n '如何 的              ',\n '如何 的               ',\n '如何 的                ',\n '如何 的                 ',\n '如何 的                  ',\n '如何 的                   ',\n '如何 的                    ',\n '如何 的                     ',\n '如何 的                      ',\n '如何 的                       ',\n '如何 的                        ',\n '如何 的                         ',\n '如何 的                          ',\n '如何 的                           ',\n '如何 的                            ',\n '如何 的                             ',\n '如何 的                              ',\n '如何 的                               ',\n '如何 的                                ',\n '如何 的                                 ',\n '如何 的                                  ',\n '如何 的                                   ',\n '如何 的                                    ',\n '如何 的                                     ',\n '如何 的                                      ',\n '如何 的                                       ',\n '如何 的                                        ',\n '如何 的                                         ',\n '如何 的                                          ',\n '如何 的                                           ',\n '如何 的                                            ',\n '如何 的                                             ',\n '如何 的                                              ',\n '如何 的                                               ',\n '如何 的                                                ',\n '如何 的                                                 ',\n '如何 的                                                  ',\n '如何 的                                                   ',\n '如何 的                                                    ',\n '如何 的                                                     ',\n '如何 的                                                      ',\n '如何 的                                                       ',\n '如何 的                                                        ',\n '如何 的                                                         ',\n '如何 的                                                          ',\n '如何 的                                                           ',\n '如何 的                                                            ',\n '如何 的                                                             ',\n '如何 的                                                              ',\n '如何 的                                                               ',\n '如何 的                                                                ',\n '如何 的                                                                 ',\n '如何 的                                                                  ',\n '的',\n '的 ',\n '的  ',\n '的   ',\n '的    ',\n '的     ',\n '的      ',\n '的       ',\n '的        ',\n '的         ',\n '的          ',\n '的           ',\n '的            ',\n '的             ',\n '的              ',\n '的               ',\n '的                ',\n '的                 ',\n '的                  ',\n '的                   ',\n '的                    ',\n '的                     ',\n '的                      ',\n '的                       ',\n '的                        ',\n '的                         ',\n '的                          ',\n '的                           ',\n '的                            ',\n '的                             ',\n '的                              ',\n '的                               ',\n '的                                ',\n '的                                 ',\n '的                                  ',\n '的                                   ',\n '的                                    ',\n '的                                     ',\n '的                                      ',\n '的                                       ',\n '的                                        ',\n '的                                         ',\n '的                                          ',\n '的                                           ',\n '的                                            ',\n '的                                             ',\n '的                                              ',\n '的                                               ',\n ...]"
     },
     "execution_count": 74,
     "metadata": {},
     "output_type": "execute_result"
    }
   ],
   "source": [
    "preds_text"
   ],
   "metadata": {
    "collapsed": false,
    "pycharm": {
     "name": "#%%\n"
    }
   }
  },
  {
   "cell_type": "markdown",
   "source": [
    "Full train and test version for all topics."
   ],
   "metadata": {
    "collapsed": false,
    "pycharm": {
     "name": "#%% md\n"
    }
   }
  },
  {
   "cell_type": "code",
   "execution_count": null,
   "outputs": [],
   "source": [
    "# train\n",
    "for i in TrainX_by_topic:\n",
    "    print('———————————————————— for topic '+i+': '+dic_topic[i]+' ————————————————————')\n",
    "    history = models[i].fit(TrainX_by_topic[i], TrainY_by_topic[i], epochs=10, validation_split=0.2)"
   ],
   "metadata": {
    "collapsed": false,
    "pycharm": {
     "name": "#%%\n"
    }
   }
  },
  {
   "cell_type": "code",
   "execution_count": null,
   "outputs": [],
   "source": [
    "# predict\n",
    "preds = {}\n",
    "for i in TrainX_by_topic:\n",
    "    print('———————————————————— for topic '+i+': '+dic_topic[i]+' ————————————————————')\n",
    "    preds[i] = models[i].predict(TestX_by_topic[i])"
   ],
   "metadata": {
    "collapsed": false,
    "pycharm": {
     "name": "#%%\n"
    }
   }
  }
 ],
 "metadata": {
  "kernelspec": {
   "display_name": "Python 3",
   "language": "python",
   "name": "python3"
  },
  "language_info": {
   "codemirror_mode": {
    "name": "ipython",
    "version": 2
   },
   "file_extension": ".py",
   "mimetype": "text/x-python",
   "name": "python",
   "nbconvert_exporter": "python",
   "pygments_lexer": "ipython2",
   "version": "2.7.6"
  }
 },
 "nbformat": 4,
 "nbformat_minor": 0
}